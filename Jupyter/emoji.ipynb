{
 "cells": [
  {
   "cell_type": "code",
   "execution_count": 56,
   "id": "c8a8d393",
   "metadata": {},
   "outputs": [
    {
     "name": "stdout",
     "output_type": "stream",
     "text": [
      "Requirement already satisfied: emoji in c:\\users\\apoorva priya\\anaconda3\\lib\\site-packages (2.2.0)\n"
     ]
    }
   ],
   "source": [
    "!pip install emoji"
   ]
  },
  {
   "cell_type": "code",
   "execution_count": 57,
   "id": "33232fb7",
   "metadata": {},
   "outputs": [],
   "source": [
    "import numpy as np\n",
    "import pandas as pd"
   ]
  },
  {
   "cell_type": "code",
   "execution_count": 58,
   "id": "17edabf1",
   "metadata": {},
   "outputs": [
    {
     "data": {
      "text/html": [
       "<div>\n",
       "<style scoped>\n",
       "    .dataframe tbody tr th:only-of-type {\n",
       "        vertical-align: middle;\n",
       "    }\n",
       "\n",
       "    .dataframe tbody tr th {\n",
       "        vertical-align: top;\n",
       "    }\n",
       "\n",
       "    .dataframe thead th {\n",
       "        text-align: right;\n",
       "    }\n",
       "</style>\n",
       "<table border=\"1\" class=\"dataframe\">\n",
       "  <thead>\n",
       "    <tr style=\"text-align: right;\">\n",
       "      <th></th>\n",
       "      <th>0</th>\n",
       "      <th>1</th>\n",
       "    </tr>\n",
       "  </thead>\n",
       "  <tbody>\n",
       "    <tr>\n",
       "      <th>0</th>\n",
       "      <td>never talk to me again</td>\n",
       "      <td>3</td>\n",
       "    </tr>\n",
       "    <tr>\n",
       "      <th>1</th>\n",
       "      <td>I am proud of your achievements</td>\n",
       "      <td>2</td>\n",
       "    </tr>\n",
       "    <tr>\n",
       "      <th>2</th>\n",
       "      <td>It is the worst day in my life</td>\n",
       "      <td>3</td>\n",
       "    </tr>\n",
       "    <tr>\n",
       "      <th>3</th>\n",
       "      <td>Miss you so much</td>\n",
       "      <td>0</td>\n",
       "    </tr>\n",
       "    <tr>\n",
       "      <th>4</th>\n",
       "      <td>food is life</td>\n",
       "      <td>4</td>\n",
       "    </tr>\n",
       "  </tbody>\n",
       "</table>\n",
       "</div>"
      ],
      "text/plain": [
       "                                 0  1\n",
       "0           never talk to me again  3\n",
       "1  I am proud of your achievements  2\n",
       "2   It is the worst day in my life  3\n",
       "3                 Miss you so much  0\n",
       "4                     food is life  4"
      ]
     },
     "execution_count": 58,
     "metadata": {},
     "output_type": "execute_result"
    }
   ],
   "source": [
    "train= pd.read_csv(\"train_emoji.csv\", header=None)\n",
    "train.drop(labels=[2, 3], axis=1, inplace=True)\n",
    "test= pd.read_csv(\"test_emoji.csv\", header= None)\n",
    "train.head()"
   ]
  },
  {
   "cell_type": "code",
   "execution_count": 59,
   "id": "19d7b31b",
   "metadata": {},
   "outputs": [
    {
     "data": {
      "text/html": [
       "<div>\n",
       "<style scoped>\n",
       "    .dataframe tbody tr th:only-of-type {\n",
       "        vertical-align: middle;\n",
       "    }\n",
       "\n",
       "    .dataframe tbody tr th {\n",
       "        vertical-align: top;\n",
       "    }\n",
       "\n",
       "    .dataframe thead th {\n",
       "        text-align: right;\n",
       "    }\n",
       "</style>\n",
       "<table border=\"1\" class=\"dataframe\">\n",
       "  <thead>\n",
       "    <tr style=\"text-align: right;\">\n",
       "      <th></th>\n",
       "      <th>0</th>\n",
       "      <th>1</th>\n",
       "    </tr>\n",
       "  </thead>\n",
       "  <tbody>\n",
       "    <tr>\n",
       "      <th>0</th>\n",
       "      <td>I want to eat\\t</td>\n",
       "      <td>4</td>\n",
       "    </tr>\n",
       "    <tr>\n",
       "      <th>1</th>\n",
       "      <td>he did not answer\\t</td>\n",
       "      <td>3</td>\n",
       "    </tr>\n",
       "    <tr>\n",
       "      <th>2</th>\n",
       "      <td>he got a raise\\t</td>\n",
       "      <td>2</td>\n",
       "    </tr>\n",
       "    <tr>\n",
       "      <th>3</th>\n",
       "      <td>she got me a present\\t</td>\n",
       "      <td>0</td>\n",
       "    </tr>\n",
       "    <tr>\n",
       "      <th>4</th>\n",
       "      <td>ha ha ha it was so funny\\t</td>\n",
       "      <td>2</td>\n",
       "    </tr>\n",
       "  </tbody>\n",
       "</table>\n",
       "</div>"
      ],
      "text/plain": [
       "                            0  1\n",
       "0             I want to eat\\t  4\n",
       "1         he did not answer\\t  3\n",
       "2            he got a raise\\t  2\n",
       "3      she got me a present\\t  0\n",
       "4  ha ha ha it was so funny\\t  2"
      ]
     },
     "execution_count": 59,
     "metadata": {},
     "output_type": "execute_result"
    }
   ],
   "source": [
    "test.head()"
   ]
  },
  {
   "cell_type": "code",
   "execution_count": 60,
   "id": "889efeab",
   "metadata": {},
   "outputs": [],
   "source": [
    "import emoji as emoji"
   ]
  },
  {
   "cell_type": "code",
   "execution_count": 61,
   "id": "5b74c1fb",
   "metadata": {},
   "outputs": [],
   "source": [
    "emoji_dictionary = {\"0\": \"\\u2764\\uFE0F\",    # :heart: prints a black instead of red heart depending on the font\n",
    "                    \"1\": \":baseball:\",\n",
    "                    \"2\": \":beaming_face_with_smiling_eyes:\",\n",
    "                    \"3\": \":downcast_face_with_sweat:\",\n",
    "                    \"4\": \":fork_and_knife:\"\n",
    "                   }"
   ]
  },
  {
   "cell_type": "code",
   "execution_count": 62,
   "id": "49b43b6f",
   "metadata": {},
   "outputs": [
    {
     "data": {
      "text/plain": [
       "'😀'"
      ]
     },
     "execution_count": 62,
     "metadata": {},
     "output_type": "execute_result"
    }
   ],
   "source": [
    "emoji.emojize(\":grinning_face:\")"
   ]
  },
  {
   "cell_type": "code",
   "execution_count": 63,
   "id": "14bba6bf",
   "metadata": {},
   "outputs": [
    {
     "name": "stdout",
     "output_type": "stream",
     "text": [
      "❤️\n",
      "⚾\n",
      "😁\n",
      "😓\n",
      "🍴\n"
     ]
    }
   ],
   "source": [
    "for e in emoji_dictionary.values():\n",
    "    print(emoji.emojize(e))"
   ]
  },
  {
   "cell_type": "code",
   "execution_count": 64,
   "id": "93585576",
   "metadata": {},
   "outputs": [
    {
     "name": "stdout",
     "output_type": "stream",
     "text": [
      "never talk to me again 😓\n",
      "I am proud of your achievements 😁\n",
      "It is the worst day in my life 😓\n",
      "Miss you so much ❤️\n",
      "food is life 🍴\n",
      "I love you mum ❤️\n",
      "Stop saying bullshit 😓\n",
      "congratulations on your acceptance 😁\n",
      "The assignment is too long  😓\n",
      "I want to go play ⚾\n",
      "she did not answer my text  😓\n",
      "Your stupidity has no limit 😓\n",
      "how many points did he score ⚾\n",
      "my algorithm performs poorly 😓\n",
      "I got approved 😁\n",
      "Stop shouting at me 😓\n",
      "Sounds like a fun plan ha ha 😁\n",
      "no one likes him 😓\n",
      "the game just finished ⚾\n",
      "I will celebrate soon 😁\n",
      "So sad you are not coming 😓\n",
      "She is my dearest love ❤️\n",
      "Good job 😁\n",
      "It was funny lol 😁\n",
      "candy is life  😁\n"
     ]
    }
   ],
   "source": [
    "data = train.values\n",
    "for i in range(25):\n",
    "    print(data[i][0],emoji.emojize(emoji_dictionary[str(data[i][1])]))"
   ]
  },
  {
   "cell_type": "code",
   "execution_count": 67,
   "id": "791144b9",
   "metadata": {},
   "outputs": [],
   "source": [
    "from keras.utils import to_categorical\n",
    "\n",
    "X_train= train[0]\n",
    "Y_train= train[1]\n",
    "\n",
    "X_test= test[0]\n",
    "Y_test= test[1]\n",
    "    \n",
    "Y_train = to_categorical(Y_train)\n",
    "Y_test= to_categorical(Y_test)\n",
    "\n",
    "X_test = np.asarray(X_test)\n",
    "Y_test = np.asarray(Y_test)\n",
    "X_train= np.asarray(X_train)\n",
    "Y_train= np.asarray(Y_train)\n",
    "\n",
    "#for i in range(132):\n",
    "    #X_train[i]= X_train[i].split()"
   ]
  },
  {
   "cell_type": "code",
   "execution_count": 68,
   "id": "360fba37",
   "metadata": {},
   "outputs": [],
   "source": [
    "#for i in range(56):\n",
    "    #X_test[i]= X_test[i].split()"
   ]
  },
  {
   "cell_type": "code",
   "execution_count": 69,
   "id": "7f756952",
   "metadata": {},
   "outputs": [
    {
     "name": "stdout",
     "output_type": "stream",
     "text": [
      "['I', 'want', 'to', 'eat']\n"
     ]
    }
   ],
   "source": [
    "print(X_test[0])"
   ]
  },
  {
   "cell_type": "code",
   "execution_count": 70,
   "id": "7b5e41c1",
   "metadata": {},
   "outputs": [],
   "source": [
    "def listToString(s):\n",
    "    str1 = \" \"\n",
    "    return (str1.join(s))"
   ]
  },
  {
   "cell_type": "code",
   "execution_count": 71,
   "id": "af12fc3c",
   "metadata": {},
   "outputs": [
    {
     "name": "stdout",
     "output_type": "stream",
     "text": [
      "I want to eat\n"
     ]
    }
   ],
   "source": [
    "#for i in range(56):\n",
    "    #X_test[i]= listToString(X_test[i])\n",
    "\n",
    "#for i in range(132):\n",
    "    #X_train[i]= listToString(X_train[i])\n",
    "    \n",
    "print(X_test[0])"
   ]
  },
  {
   "cell_type": "code",
   "execution_count": 72,
   "id": "eb3b6879",
   "metadata": {},
   "outputs": [],
   "source": [
    "embeddings = {}\n",
    "with open(r'glove.6B.50d.txt',encoding='utf-8') as f:\n",
    "    for line in f:\n",
    "        values = line.split()\n",
    "        word = values[0]\n",
    "        coeffs = np.asarray(values[1:],dtype='float32')\n",
    "\n",
    "        embeddings[word] = coeffs"
   ]
  },
  {
   "cell_type": "code",
   "execution_count": 73,
   "id": "6980a4fd",
   "metadata": {},
   "outputs": [],
   "source": [
    "def getOutputEmbeddings(X):\n",
    "    \n",
    "    embedding_matrix_output = np.zeros((X.shape[0],10,50))\n",
    "    for ix in range(X.shape[0]):\n",
    "        X[ix] = X[ix].split()\n",
    "        for jx in range(len(X[ix])):\n",
    "            embedding_matrix_output[ix][jx] = embeddings[X[ix][jx].lower()]\n",
    "            \n",
    "    return embedding_matrix_output"
   ]
  },
  {
   "cell_type": "code",
   "execution_count": 74,
   "id": "e1e0a519",
   "metadata": {},
   "outputs": [],
   "source": [
    "emb_XTrain= getOutputEmbeddings(X_train)\n",
    "emb_XTest= getOutputEmbeddings(X_test)"
   ]
  },
  {
   "cell_type": "code",
   "execution_count": 75,
   "id": "276717c1",
   "metadata": {},
   "outputs": [
    {
     "name": "stdout",
     "output_type": "stream",
     "text": [
      "['never', 'talk', 'to', 'me', 'again']\n",
      "['I', 'want', 'to', 'eat']\n"
     ]
    }
   ],
   "source": [
    "print(X_train[0])\n",
    "print(X_test[0])"
   ]
  },
  {
   "cell_type": "code",
   "execution_count": 34,
   "id": "e0881578",
   "metadata": {},
   "outputs": [
    {
     "name": "stdout",
     "output_type": "stream",
     "text": [
      "I want to eat\n"
     ]
    }
   ],
   "source": [
    "#for i in range(56):\n",
    "    #X_test[i]= listToString(X_test[i])\n",
    "\n",
    "#for i in range(132):\n",
    "    #X_train[i]= listToString(X_train[i])\n",
    "    \n",
    "print(X_test[0])"
   ]
  },
  {
   "cell_type": "code",
   "execution_count": 76,
   "id": "a343e4eb",
   "metadata": {},
   "outputs": [
    {
     "name": "stdout",
     "output_type": "stream",
     "text": [
      "(132, 10, 50)\n",
      "(56, 10, 50)\n"
     ]
    }
   ],
   "source": [
    "print(emb_XTrain.shape)\n",
    "print(emb_XTest.shape)"
   ]
  },
  {
   "cell_type": "code",
   "execution_count": 77,
   "id": "2605ca43",
   "metadata": {},
   "outputs": [],
   "source": [
    "from tensorflow.keras.layers import LSTM, Dropout, Dense, Activation\n",
    "from tensorflow.keras.models import Sequential"
   ]
  },
  {
   "cell_type": "code",
   "execution_count": 78,
   "id": "43e2a42c",
   "metadata": {},
   "outputs": [
    {
     "name": "stdout",
     "output_type": "stream",
     "text": [
      "Model: \"sequential_1\"\n",
      "_________________________________________________________________\n",
      " Layer (type)                Output Shape              Param #   \n",
      "=================================================================\n",
      " lstm_2 (LSTM)               (None, 10, 64)            29440     \n",
      "                                                                 \n",
      " dropout_2 (Dropout)         (None, 10, 64)            0         \n",
      "                                                                 \n",
      " lstm_3 (LSTM)               (None, 64)                33024     \n",
      "                                                                 \n",
      " dropout_3 (Dropout)         (None, 64)                0         \n",
      "                                                                 \n",
      " dense_1 (Dense)             (None, 5)                 325       \n",
      "                                                                 \n",
      " activation_1 (Activation)   (None, 5)                 0         \n",
      "                                                                 \n",
      "=================================================================\n",
      "Total params: 62,789\n",
      "Trainable params: 62,789\n",
      "Non-trainable params: 0\n",
      "_________________________________________________________________\n"
     ]
    }
   ],
   "source": [
    "model = Sequential()\n",
    "model.add(LSTM(64,input_shape=(10,50),return_sequences=True))\n",
    "model.add(Dropout(0.4))\n",
    "model.add(LSTM(64,input_shape=(10,50)))\n",
    "model.add(Dropout(0.3))\n",
    "model.add(Dense(5))\n",
    "model.add(Activation('softmax'))\n",
    "model.summary()"
   ]
  },
  {
   "cell_type": "code",
   "execution_count": 79,
   "id": "186fb1fb",
   "metadata": {},
   "outputs": [
    {
     "name": "stdout",
     "output_type": "stream",
     "text": [
      "Epoch 1/100\n",
      "4/4 [==============================] - 11s 655ms/step - loss: 1.5826 - acc: 0.2627 - val_loss: 1.6047 - val_acc: 0.2143\n",
      "Epoch 2/100\n",
      "4/4 [==============================] - 0s 40ms/step - loss: 1.5369 - acc: 0.3051 - val_loss: 1.6308 - val_acc: 0.1429\n",
      "Epoch 3/100\n",
      "4/4 [==============================] - 0s 40ms/step - loss: 1.4919 - acc: 0.3475 - val_loss: 1.6499 - val_acc: 0.1429\n",
      "Epoch 4/100\n",
      "4/4 [==============================] - 0s 38ms/step - loss: 1.4665 - acc: 0.4068 - val_loss: 1.6344 - val_acc: 0.1429\n",
      "Epoch 5/100\n",
      "4/4 [==============================] - 0s 40ms/step - loss: 1.4226 - acc: 0.4322 - val_loss: 1.5862 - val_acc: 0.2857\n",
      "Epoch 6/100\n",
      "4/4 [==============================] - 0s 39ms/step - loss: 1.3767 - acc: 0.4576 - val_loss: 1.5075 - val_acc: 0.2143\n",
      "Epoch 7/100\n",
      "4/4 [==============================] - 0s 47ms/step - loss: 1.3078 - acc: 0.5339 - val_loss: 1.4059 - val_acc: 0.3571\n",
      "Epoch 8/100\n",
      "4/4 [==============================] - 0s 51ms/step - loss: 1.2000 - acc: 0.6271 - val_loss: 1.3335 - val_acc: 0.3571\n",
      "Epoch 9/100\n",
      "4/4 [==============================] - 0s 45ms/step - loss: 1.1089 - acc: 0.6271 - val_loss: 1.2849 - val_acc: 0.4286\n",
      "Epoch 10/100\n",
      "4/4 [==============================] - 0s 39ms/step - loss: 0.9942 - acc: 0.6610 - val_loss: 1.1724 - val_acc: 0.5000\n",
      "Epoch 11/100\n",
      "4/4 [==============================] - 0s 39ms/step - loss: 0.8663 - acc: 0.7458 - val_loss: 1.1199 - val_acc: 0.6429\n",
      "Epoch 12/100\n",
      "4/4 [==============================] - 0s 43ms/step - loss: 0.7593 - acc: 0.7881 - val_loss: 1.0570 - val_acc: 0.6429\n",
      "Epoch 13/100\n",
      "4/4 [==============================] - 0s 41ms/step - loss: 0.6583 - acc: 0.8305 - val_loss: 1.3579 - val_acc: 0.4286\n",
      "Epoch 14/100\n",
      "4/4 [==============================] - 0s 40ms/step - loss: 0.6110 - acc: 0.8136 - val_loss: 1.2614 - val_acc: 0.6429\n",
      "Epoch 15/100\n",
      "4/4 [==============================] - 0s 38ms/step - loss: 0.5057 - acc: 0.8644 - val_loss: 1.0999 - val_acc: 0.7143\n",
      "Epoch 16/100\n",
      "4/4 [==============================] - 0s 36ms/step - loss: 0.4562 - acc: 0.8644 - val_loss: 1.2245 - val_acc: 0.5714\n",
      "Epoch 17/100\n",
      "4/4 [==============================] - 0s 39ms/step - loss: 0.4508 - acc: 0.8644 - val_loss: 1.1635 - val_acc: 0.6429\n",
      "Epoch 18/100\n",
      "4/4 [==============================] - 0s 41ms/step - loss: 0.3851 - acc: 0.8898 - val_loss: 1.1679 - val_acc: 0.7143\n",
      "Epoch 19/100\n",
      "4/4 [==============================] - 0s 48ms/step - loss: 0.3473 - acc: 0.9153 - val_loss: 1.4195 - val_acc: 0.6429\n",
      "Epoch 20/100\n",
      "4/4 [==============================] - 0s 50ms/step - loss: 0.2691 - acc: 0.9407 - val_loss: 1.3862 - val_acc: 0.6429\n",
      "Epoch 21/100\n",
      "4/4 [==============================] - 0s 45ms/step - loss: 0.3029 - acc: 0.9153 - val_loss: 1.4684 - val_acc: 0.5000\n",
      "Epoch 22/100\n",
      "4/4 [==============================] - 0s 52ms/step - loss: 0.2763 - acc: 0.9153 - val_loss: 1.3727 - val_acc: 0.5714\n",
      "Epoch 23/100\n",
      "4/4 [==============================] - 0s 50ms/step - loss: 0.2254 - acc: 0.9407 - val_loss: 1.3295 - val_acc: 0.6429\n",
      "Epoch 24/100\n",
      "4/4 [==============================] - 0s 63ms/step - loss: 0.1605 - acc: 0.9322 - val_loss: 1.1762 - val_acc: 0.7143\n",
      "Epoch 25/100\n",
      "4/4 [==============================] - 0s 51ms/step - loss: 0.2009 - acc: 0.9322 - val_loss: 1.4923 - val_acc: 0.5714\n",
      "Epoch 26/100\n",
      "4/4 [==============================] - 0s 40ms/step - loss: 0.2154 - acc: 0.9322 - val_loss: 0.7814 - val_acc: 0.7143\n",
      "Epoch 27/100\n",
      "4/4 [==============================] - 0s 42ms/step - loss: 0.1940 - acc: 0.9407 - val_loss: 1.6447 - val_acc: 0.4286\n",
      "Epoch 28/100\n",
      "4/4 [==============================] - 0s 39ms/step - loss: 0.1317 - acc: 0.9576 - val_loss: 1.1542 - val_acc: 0.7143\n",
      "Epoch 29/100\n",
      "4/4 [==============================] - 0s 39ms/step - loss: 0.1763 - acc: 0.9322 - val_loss: 1.3858 - val_acc: 0.5714\n",
      "Epoch 30/100\n",
      "4/4 [==============================] - 0s 42ms/step - loss: 0.1854 - acc: 0.9153 - val_loss: 1.2839 - val_acc: 0.6429\n",
      "Epoch 31/100\n",
      "4/4 [==============================] - 0s 38ms/step - loss: 0.1864 - acc: 0.9407 - val_loss: 1.0153 - val_acc: 0.7143\n",
      "Epoch 32/100\n",
      "4/4 [==============================] - 0s 37ms/step - loss: 0.1025 - acc: 0.9661 - val_loss: 1.6377 - val_acc: 0.5714\n",
      "Epoch 33/100\n",
      "4/4 [==============================] - 0s 39ms/step - loss: 0.0875 - acc: 0.9831 - val_loss: 0.8920 - val_acc: 0.6429\n",
      "Epoch 34/100\n",
      "4/4 [==============================] - 0s 38ms/step - loss: 0.0943 - acc: 0.9831 - val_loss: 0.9162 - val_acc: 0.7857\n",
      "Epoch 35/100\n",
      "4/4 [==============================] - 0s 44ms/step - loss: 0.1153 - acc: 0.9661 - val_loss: 1.2543 - val_acc: 0.7143\n",
      "Epoch 36/100\n",
      "4/4 [==============================] - 0s 41ms/step - loss: 0.0667 - acc: 0.9915 - val_loss: 1.0314 - val_acc: 0.7143\n",
      "Epoch 37/100\n",
      "4/4 [==============================] - 0s 39ms/step - loss: 0.0659 - acc: 0.9915 - val_loss: 0.9252 - val_acc: 0.7857\n",
      "Epoch 38/100\n",
      "4/4 [==============================] - 0s 43ms/step - loss: 0.0616 - acc: 0.9831 - val_loss: 1.3271 - val_acc: 0.7143\n",
      "Epoch 39/100\n",
      "4/4 [==============================] - 0s 82ms/step - loss: 0.0729 - acc: 0.9746 - val_loss: 1.5222 - val_acc: 0.6429\n",
      "Epoch 40/100\n",
      "4/4 [==============================] - 0s 62ms/step - loss: 0.0758 - acc: 0.9831 - val_loss: 1.6759 - val_acc: 0.6429\n",
      "Epoch 41/100\n",
      "4/4 [==============================] - 0s 39ms/step - loss: 0.0338 - acc: 1.0000 - val_loss: 1.4088 - val_acc: 0.6429\n",
      "Epoch 42/100\n",
      "4/4 [==============================] - 0s 43ms/step - loss: 0.0439 - acc: 1.0000 - val_loss: 1.5770 - val_acc: 0.6429\n",
      "Epoch 43/100\n",
      "4/4 [==============================] - 0s 47ms/step - loss: 0.0414 - acc: 0.9915 - val_loss: 1.6989 - val_acc: 0.5714\n",
      "Epoch 44/100\n",
      "4/4 [==============================] - 0s 55ms/step - loss: 0.0227 - acc: 1.0000 - val_loss: 1.7563 - val_acc: 0.6429\n",
      "Epoch 45/100\n",
      "4/4 [==============================] - 0s 62ms/step - loss: 0.0243 - acc: 1.0000 - val_loss: 1.7488 - val_acc: 0.6429\n",
      "Epoch 46/100\n",
      "4/4 [==============================] - 0s 39ms/step - loss: 0.0243 - acc: 1.0000 - val_loss: 1.6549 - val_acc: 0.6429\n",
      "Epoch 47/100\n",
      "4/4 [==============================] - 0s 42ms/step - loss: 0.0224 - acc: 1.0000 - val_loss: 1.9731 - val_acc: 0.6429\n",
      "Epoch 48/100\n",
      "4/4 [==============================] - 0s 37ms/step - loss: 0.0203 - acc: 1.0000 - val_loss: 2.2757 - val_acc: 0.5714\n",
      "Epoch 49/100\n",
      "4/4 [==============================] - 0s 49ms/step - loss: 0.0326 - acc: 0.9915 - val_loss: 1.5486 - val_acc: 0.7143\n",
      "Epoch 50/100\n",
      "4/4 [==============================] - 0s 48ms/step - loss: 0.0241 - acc: 1.0000 - val_loss: 1.5523 - val_acc: 0.6429\n",
      "Epoch 51/100\n",
      "4/4 [==============================] - 0s 43ms/step - loss: 0.0170 - acc: 1.0000 - val_loss: 1.6289 - val_acc: 0.7143\n",
      "Epoch 52/100\n",
      "4/4 [==============================] - 0s 41ms/step - loss: 0.0318 - acc: 0.9915 - val_loss: 1.5981 - val_acc: 0.7143\n",
      "Epoch 53/100\n",
      "4/4 [==============================] - 0s 37ms/step - loss: 0.0221 - acc: 1.0000 - val_loss: 1.4013 - val_acc: 0.7143\n",
      "Epoch 54/100\n",
      "4/4 [==============================] - 0s 44ms/step - loss: 0.0135 - acc: 1.0000 - val_loss: 1.3515 - val_acc: 0.7143\n",
      "Epoch 55/100\n",
      "4/4 [==============================] - 0s 51ms/step - loss: 0.0106 - acc: 1.0000 - val_loss: 1.4438 - val_acc: 0.7143\n",
      "Epoch 56/100\n",
      "4/4 [==============================] - 0s 49ms/step - loss: 0.0217 - acc: 0.9915 - val_loss: 1.3292 - val_acc: 0.7857\n",
      "Epoch 57/100\n",
      "4/4 [==============================] - 0s 40ms/step - loss: 0.0842 - acc: 0.9831 - val_loss: 2.8769 - val_acc: 0.5714\n",
      "Epoch 58/100\n",
      "4/4 [==============================] - 0s 39ms/step - loss: 0.2059 - acc: 0.9492 - val_loss: 1.0280 - val_acc: 0.7143\n",
      "Epoch 59/100\n",
      "4/4 [==============================] - 0s 40ms/step - loss: 0.3128 - acc: 0.9237 - val_loss: 1.9350 - val_acc: 0.5000\n",
      "Epoch 60/100\n",
      "4/4 [==============================] - 0s 41ms/step - loss: 0.1340 - acc: 0.9661 - val_loss: 1.6515 - val_acc: 0.6429\n",
      "Epoch 61/100\n",
      "4/4 [==============================] - 0s 40ms/step - loss: 0.1764 - acc: 0.9237 - val_loss: 1.1580 - val_acc: 0.6429\n",
      "Epoch 62/100\n",
      "4/4 [==============================] - 0s 41ms/step - loss: 0.0844 - acc: 0.9831 - val_loss: 1.4398 - val_acc: 0.5714\n",
      "Epoch 63/100\n"
     ]
    },
    {
     "name": "stdout",
     "output_type": "stream",
     "text": [
      "4/4 [==============================] - 0s 42ms/step - loss: 0.0457 - acc: 0.9915 - val_loss: 1.6919 - val_acc: 0.5714\n",
      "Epoch 64/100\n",
      "4/4 [==============================] - 0s 36ms/step - loss: 0.0982 - acc: 0.9576 - val_loss: 1.0053 - val_acc: 0.6429\n",
      "Epoch 65/100\n",
      "4/4 [==============================] - 0s 39ms/step - loss: 0.0551 - acc: 0.9746 - val_loss: 0.4453 - val_acc: 0.7857\n",
      "Epoch 66/100\n",
      "4/4 [==============================] - 0s 43ms/step - loss: 0.0487 - acc: 0.9915 - val_loss: 0.5685 - val_acc: 0.7857\n",
      "Epoch 67/100\n",
      "4/4 [==============================] - 0s 45ms/step - loss: 0.0566 - acc: 0.9915 - val_loss: 0.9424 - val_acc: 0.7143\n",
      "Epoch 68/100\n",
      "4/4 [==============================] - 0s 38ms/step - loss: 0.0285 - acc: 1.0000 - val_loss: 1.3910 - val_acc: 0.5714\n",
      "Epoch 69/100\n",
      "4/4 [==============================] - 0s 40ms/step - loss: 0.0524 - acc: 0.9746 - val_loss: 1.0188 - val_acc: 0.7143\n",
      "Epoch 70/100\n",
      "4/4 [==============================] - 0s 38ms/step - loss: 0.0273 - acc: 0.9915 - val_loss: 0.8914 - val_acc: 0.7143\n",
      "Epoch 71/100\n",
      "4/4 [==============================] - 0s 41ms/step - loss: 0.0405 - acc: 0.9831 - val_loss: 1.1344 - val_acc: 0.6429\n",
      "Epoch 72/100\n",
      "4/4 [==============================] - 0s 40ms/step - loss: 0.0245 - acc: 1.0000 - val_loss: 1.8890 - val_acc: 0.5000\n",
      "Epoch 73/100\n",
      "4/4 [==============================] - 0s 37ms/step - loss: 0.0198 - acc: 1.0000 - val_loss: 1.8572 - val_acc: 0.5000\n",
      "Epoch 74/100\n",
      "4/4 [==============================] - 0s 41ms/step - loss: 0.0142 - acc: 1.0000 - val_loss: 1.4771 - val_acc: 0.6429\n",
      "Epoch 75/100\n",
      "4/4 [==============================] - 0s 37ms/step - loss: 0.0105 - acc: 1.0000 - val_loss: 1.2306 - val_acc: 0.6429\n",
      "Epoch 76/100\n",
      "4/4 [==============================] - 0s 36ms/step - loss: 0.0128 - acc: 1.0000 - val_loss: 1.1175 - val_acc: 0.7857\n",
      "Epoch 77/100\n",
      "4/4 [==============================] - 0s 39ms/step - loss: 0.0076 - acc: 1.0000 - val_loss: 1.0464 - val_acc: 0.7857\n",
      "Epoch 78/100\n",
      "4/4 [==============================] - 0s 38ms/step - loss: 0.0103 - acc: 1.0000 - val_loss: 1.0539 - val_acc: 0.7143\n",
      "Epoch 79/100\n",
      "4/4 [==============================] - 0s 36ms/step - loss: 0.0078 - acc: 1.0000 - val_loss: 1.1099 - val_acc: 0.6429\n",
      "Epoch 80/100\n",
      "4/4 [==============================] - 0s 41ms/step - loss: 0.0056 - acc: 1.0000 - val_loss: 1.1738 - val_acc: 0.6429\n",
      "Epoch 81/100\n",
      "4/4 [==============================] - 0s 40ms/step - loss: 0.0059 - acc: 1.0000 - val_loss: 1.2319 - val_acc: 0.6429\n",
      "Epoch 82/100\n",
      "4/4 [==============================] - 0s 45ms/step - loss: 0.0077 - acc: 1.0000 - val_loss: 1.2680 - val_acc: 0.6429\n",
      "Epoch 83/100\n",
      "4/4 [==============================] - 0s 41ms/step - loss: 0.0069 - acc: 1.0000 - val_loss: 1.2975 - val_acc: 0.6429\n",
      "Epoch 84/100\n",
      "4/4 [==============================] - 0s 38ms/step - loss: 0.0054 - acc: 1.0000 - val_loss: 1.3060 - val_acc: 0.6429\n",
      "Epoch 85/100\n",
      "4/4 [==============================] - 0s 45ms/step - loss: 0.0047 - acc: 1.0000 - val_loss: 1.3167 - val_acc: 0.6429\n",
      "Epoch 86/100\n",
      "4/4 [==============================] - 0s 41ms/step - loss: 0.0054 - acc: 1.0000 - val_loss: 1.3331 - val_acc: 0.6429\n",
      "Epoch 87/100\n",
      "4/4 [==============================] - 0s 39ms/step - loss: 0.0056 - acc: 1.0000 - val_loss: 1.3554 - val_acc: 0.6429\n",
      "Epoch 88/100\n",
      "4/4 [==============================] - 0s 36ms/step - loss: 0.0045 - acc: 1.0000 - val_loss: 1.3770 - val_acc: 0.6429\n",
      "Epoch 89/100\n",
      "4/4 [==============================] - 0s 41ms/step - loss: 0.0076 - acc: 1.0000 - val_loss: 1.3376 - val_acc: 0.7143\n",
      "Epoch 90/100\n",
      "4/4 [==============================] - 0s 40ms/step - loss: 0.0047 - acc: 1.0000 - val_loss: 1.3099 - val_acc: 0.7143\n",
      "Epoch 91/100\n",
      "4/4 [==============================] - 0s 39ms/step - loss: 0.0036 - acc: 1.0000 - val_loss: 1.3196 - val_acc: 0.7143\n",
      "Epoch 92/100\n",
      "4/4 [==============================] - 0s 39ms/step - loss: 0.0054 - acc: 1.0000 - val_loss: 1.3396 - val_acc: 0.7143\n",
      "Epoch 93/100\n",
      "4/4 [==============================] - 0s 41ms/step - loss: 0.0050 - acc: 1.0000 - val_loss: 1.3694 - val_acc: 0.7143\n",
      "Epoch 94/100\n",
      "4/4 [==============================] - 0s 38ms/step - loss: 0.0044 - acc: 1.0000 - val_loss: 1.4204 - val_acc: 0.7143\n",
      "Epoch 95/100\n",
      "4/4 [==============================] - 0s 37ms/step - loss: 0.0037 - acc: 1.0000 - val_loss: 1.4596 - val_acc: 0.7143\n",
      "Epoch 96/100\n",
      "4/4 [==============================] - 0s 40ms/step - loss: 0.0037 - acc: 1.0000 - val_loss: 1.4919 - val_acc: 0.6429\n",
      "Epoch 97/100\n",
      "4/4 [==============================] - 0s 36ms/step - loss: 0.0051 - acc: 1.0000 - val_loss: 1.5313 - val_acc: 0.6429\n",
      "Epoch 98/100\n",
      "4/4 [==============================] - 0s 44ms/step - loss: 0.0036 - acc: 1.0000 - val_loss: 1.5745 - val_acc: 0.6429\n",
      "Epoch 99/100\n",
      "4/4 [==============================] - 0s 38ms/step - loss: 0.0031 - acc: 1.0000 - val_loss: 1.6034 - val_acc: 0.6429\n",
      "Epoch 100/100\n",
      "4/4 [==============================] - 0s 38ms/step - loss: 0.0030 - acc: 1.0000 - val_loss: 1.6215 - val_acc: 0.6429\n"
     ]
    }
   ],
   "source": [
    "model.compile(optimizer='adam',loss='categorical_crossentropy',metrics=['acc'])\n",
    "history= model.fit(emb_XTrain,Y_train,batch_size=32,epochs=100,shuffle=True,validation_split=0.1)"
   ]
  },
  {
   "cell_type": "code",
   "execution_count": 80,
   "id": "e7d583d0",
   "metadata": {},
   "outputs": [
    {
     "data": {
      "image/png": "[encoded data removed]",
      "text/plain": [
       "<Figure size 432x288 with 1 Axes>"
      ]
     },
     "metadata": {
      "needs_background": "light"
     },
     "output_type": "display_data"
    }
   ],
   "source": [
    "import matplotlib.pyplot as plt\n",
    "plt.plot(history.history['acc'])\n",
    "plt.plot(history.history['val_acc'])\n",
    "plt.title('model accuracy')\n",
    "plt.ylabel('accuracy')\n",
    "plt.xlabel('epoch')\n",
    "plt.legend(['train', 'test'], loc='upper left')\n",
    "plt.show()"
   ]
  },
  {
   "cell_type": "code",
   "execution_count": 81,
   "id": "fa283d7c",
   "metadata": {},
   "outputs": [
    {
     "data": {
      "image/png": "[encoded data removed]",
      "text/plain": [
       "<Figure size 432x288 with 1 Axes>"
      ]
     },
     "metadata": {
      "needs_background": "light"
     },
     "output_type": "display_data"
    }
   ],
   "source": [
    "plt.plot(history.history['loss'])\n",
    "plt.plot(history.history['val_loss'])\n",
    "plt.title('model loss')\n",
    "plt.ylabel('loss')\n",
    "plt.xlabel('epoch')\n",
    "plt.legend(['train', 'test'], loc='upper right')\n",
    "plt.show()"
   ]
  },
  {
   "cell_type": "code",
   "execution_count": 82,
   "id": "e47690d2",
   "metadata": {},
   "outputs": [
    {
     "name": "stdout",
     "output_type": "stream",
     "text": [
      "2/2 [==============================] - 0s 16ms/step - loss: 1.9249 - acc: 0.6071\n"
     ]
    },
    {
     "data": {
      "text/plain": [
       "[1.9249134063720703, 0.6071428656578064]"
      ]
     },
     "execution_count": 82,
     "metadata": {},
     "output_type": "execute_result"
    }
   ],
   "source": [
    "model.evaluate(emb_XTest,Y_test)"
   ]
  },
  {
   "cell_type": "code",
   "execution_count": 83,
   "id": "02da58cb",
   "metadata": {},
   "outputs": [
    {
     "name": "stdout",
     "output_type": "stream",
     "text": [
      "2/2 [==============================] - 2s 16ms/step\n"
     ]
    }
   ],
   "source": [
    "pred = np.argmax(model.predict(emb_XTest),axis=1)"
   ]
  },
  {
   "cell_type": "code",
   "execution_count": 84,
   "id": "c4aab846",
   "metadata": {},
   "outputs": [
    {
     "data": {
      "text/plain": [
       "(56,)"
      ]
     },
     "execution_count": 84,
     "metadata": {},
     "output_type": "execute_result"
    }
   ],
   "source": [
    "pred.shape"
   ]
  },
  {
   "cell_type": "code",
   "execution_count": 85,
   "id": "62a590d3",
   "metadata": {},
   "outputs": [
    {
     "name": "stdout",
     "output_type": "stream",
     "text": [
      "I want to eat\n",
      "🍴\n",
      "he did not answer\n",
      "😓\n",
      "he got a raise\n",
      "😁\n",
      "she got me a present\n",
      "❤️\n",
      "ha ha ha it was so funny\n",
      "😁\n",
      "he is a good friend\n",
      "❤️\n",
      "I am upset\n",
      "❤️\n",
      "We had such a lovely dinner tonight\n",
      "❤️\n",
      "where is the food\n",
      "🍴\n",
      "Stop making this joke ha ha ha\n",
      "😁\n",
      "where is the ball\n",
      "⚾\n",
      "work is hard\n",
      "😓\n",
      "This girl is messing with me\n",
      "😓\n",
      "are you serious ha ha\n",
      "😁\n",
      "Let us go play baseball\n",
      "⚾\n",
      "This stupid grader is not working\n",
      "😓\n",
      "work is horrible\n",
      "😓\n",
      "Congratulation for having a baby\n",
      "😁\n",
      "stop messing around\n",
      "😓\n",
      "any suggestions for dinner\n",
      "🍴\n",
      "I love taking breaks\n",
      "❤️\n",
      "you brighten my day\n",
      "😁\n",
      "I boiled rice\n",
      "🍴\n",
      "she is a bully\n",
      "😓\n",
      "Why are you feeling bad\n",
      "😓\n",
      "I am upset\n",
      "😓\n",
      "I worked during my birthday\n",
      "😓\n",
      "My grandmother is the love of my life\n",
      "❤️\n",
      "enjoy your break\n",
      "😁\n",
      "valentine day is near\n",
      "❤️\n",
      "I miss you so much\n",
      "❤️\n",
      "throw the ball\n",
      "⚾\n",
      "My life is so boring\n",
      "😓\n",
      "she said yes\n",
      "😁\n",
      "will you be my valentine\n",
      "❤️\n",
      "he can pitch really well\n",
      "⚾\n",
      "dance with me\n",
      "😁\n",
      "I am starving\n",
      "🍴\n",
      "See you at the restaurant\n",
      "🍴\n",
      "I like to laugh\n",
      "😁\n"
     ]
    }
   ],
   "source": [
    "for i in range(40):\n",
    "    print(' '.join(X_test[i]))\n",
    "    print(emoji.emojize(emoji_dictionary[str(np.argmax(Y_test[i]))]))"
   ]
  },
  {
   "cell_type": "code",
   "execution_count": 86,
   "id": "644f8b59",
   "metadata": {},
   "outputs": [],
   "source": [
    "with open(\"model.json\", \"w\") as file:\n",
    "    file.write(model.to_json())\n",
    "model.save_weights(\"model.h5\")"
   ]
  },
  {
   "cell_type": "code",
   "execution_count": 87,
   "id": "8c899ca3",
   "metadata": {},
   "outputs": [],
   "source": [
    "from keras.models import model_from_json"
   ]
  },
  {
   "cell_type": "code",
   "execution_count": 88,
   "id": "c144ac82",
   "metadata": {},
   "outputs": [],
   "source": [
    "with open(\"model.json\", \"r\") as file:\n",
    "    model = model_from_json(file.read())\n",
    "model.load_weights(\"model.h5\")"
   ]
  },
  {
   "cell_type": "code",
   "execution_count": 89,
   "id": "502a832b",
   "metadata": {},
   "outputs": [
    {
     "name": "stdout",
     "output_type": "stream",
     "text": [
      "1/1 [==============================] - 3s 3s/step\n",
      "its so painful\n",
      "😓\n"
     ]
    }
   ],
   "source": [
    "test_str = \"its so painful\"\n",
    "X = pd.Series([test_str])\n",
    "emb_X = getOutputEmbeddings(X)\n",
    "p = np.argmax(model.predict(emb_X),axis=1)\n",
    "print(' '.join(X[0]))\n",
    "print(emoji.emojize(emoji_dictionary[str(p[0])]))"
   ]
  },
  {
   "cell_type": "code",
   "execution_count": null,
   "id": "0b64e134",
   "metadata": {},
   "outputs": [],
   "source": []
  }
 ],
 "metadata": {
  "kernelspec": {
   "display_name": "Python 3 (ipykernel)",
   "language": "python",
   "name": "python3"
  },
  "language_info": {
   "codemirror_mode": {
    "name": "ipython",
    "version": 3
   },
   "file_extension": ".py",
   "mimetype": "text/x-python",
   "name": "python",
   "nbconvert_exporter": "python",
   "pygments_lexer": "ipython3",
   "version": "3.9.7"
  }
 },
 "nbformat": 4,
 "nbformat_minor": 5
}
