{
 "cells": [
  {
   "cell_type": "code",
   "execution_count": 1,
   "id": "6dc50639",
   "metadata": {},
   "outputs": [
    {
     "name": "stdout",
     "output_type": "stream",
     "text": [
      "Requirement already satisfied: emoji in c:\\users\\apoorva priya\\anaconda3\\lib\\site-packages (2.2.0)\n"
     ]
    }
   ],
   "source": [
    "!pip install emoji"
   ]
  },
  {
   "cell_type": "code",
   "execution_count": 2,
   "id": "b5bb0da5",
   "metadata": {},
   "outputs": [],
   "source": [
    "import numpy as np\n",
    "import pandas as pd"
   ]
  },
  {
   "cell_type": "code",
   "execution_count": 3,
   "id": "4442f520",
   "metadata": {},
   "outputs": [
    {
     "data": {
      "text/html": [
       "<div>\n",
       "<style scoped>\n",
       "    .dataframe tbody tr th:only-of-type {\n",
       "        vertical-align: middle;\n",
       "    }\n",
       "\n",
       "    .dataframe tbody tr th {\n",
       "        vertical-align: top;\n",
       "    }\n",
       "\n",
       "    .dataframe thead th {\n",
       "        text-align: right;\n",
       "    }\n",
       "</style>\n",
       "<table border=\"1\" class=\"dataframe\">\n",
       "  <thead>\n",
       "    <tr style=\"text-align: right;\">\n",
       "      <th></th>\n",
       "      <th>0</th>\n",
       "      <th>1</th>\n",
       "    </tr>\n",
       "  </thead>\n",
       "  <tbody>\n",
       "    <tr>\n",
       "      <th>0</th>\n",
       "      <td>never talk to me again</td>\n",
       "      <td>3</td>\n",
       "    </tr>\n",
       "    <tr>\n",
       "      <th>1</th>\n",
       "      <td>I am proud of your achievements</td>\n",
       "      <td>2</td>\n",
       "    </tr>\n",
       "    <tr>\n",
       "      <th>2</th>\n",
       "      <td>It is the worst day in my life</td>\n",
       "      <td>3</td>\n",
       "    </tr>\n",
       "    <tr>\n",
       "      <th>3</th>\n",
       "      <td>Miss you so much</td>\n",
       "      <td>0</td>\n",
       "    </tr>\n",
       "    <tr>\n",
       "      <th>4</th>\n",
       "      <td>food is life</td>\n",
       "      <td>4</td>\n",
       "    </tr>\n",
       "  </tbody>\n",
       "</table>\n",
       "</div>"
      ],
      "text/plain": [
       "                                 0  1\n",
       "0           never talk to me again  3\n",
       "1  I am proud of your achievements  2\n",
       "2   It is the worst day in my life  3\n",
       "3                 Miss you so much  0\n",
       "4                     food is life  4"
      ]
     },
     "execution_count": 3,
     "metadata": {},
     "output_type": "execute_result"
    }
   ],
   "source": [
    "train= pd.read_csv(\"train_emoji.csv\", header=None)\n",
    "train.drop(labels=[2, 3], axis=1, inplace=True)\n",
    "test= pd.read_csv(\"test_emoji.csv\", header= None)\n",
    "train.head()"
   ]
  },
  {
   "cell_type": "code",
   "execution_count": 4,
   "id": "da2cbea0",
   "metadata": {},
   "outputs": [
    {
     "data": {
      "text/html": [
       "<div>\n",
       "<style scoped>\n",
       "    .dataframe tbody tr th:only-of-type {\n",
       "        vertical-align: middle;\n",
       "    }\n",
       "\n",
       "    .dataframe tbody tr th {\n",
       "        vertical-align: top;\n",
       "    }\n",
       "\n",
       "    .dataframe thead th {\n",
       "        text-align: right;\n",
       "    }\n",
       "</style>\n",
       "<table border=\"1\" class=\"dataframe\">\n",
       "  <thead>\n",
       "    <tr style=\"text-align: right;\">\n",
       "      <th></th>\n",
       "      <th>0</th>\n",
       "      <th>1</th>\n",
       "    </tr>\n",
       "  </thead>\n",
       "  <tbody>\n",
       "    <tr>\n",
       "      <th>0</th>\n",
       "      <td>I want to eat\\t</td>\n",
       "      <td>4</td>\n",
       "    </tr>\n",
       "    <tr>\n",
       "      <th>1</th>\n",
       "      <td>he did not answer\\t</td>\n",
       "      <td>3</td>\n",
       "    </tr>\n",
       "    <tr>\n",
       "      <th>2</th>\n",
       "      <td>he got a raise\\t</td>\n",
       "      <td>2</td>\n",
       "    </tr>\n",
       "    <tr>\n",
       "      <th>3</th>\n",
       "      <td>she got me a present\\t</td>\n",
       "      <td>0</td>\n",
       "    </tr>\n",
       "    <tr>\n",
       "      <th>4</th>\n",
       "      <td>ha ha ha it was so funny\\t</td>\n",
       "      <td>2</td>\n",
       "    </tr>\n",
       "  </tbody>\n",
       "</table>\n",
       "</div>"
      ],
      "text/plain": [
       "                            0  1\n",
       "0             I want to eat\\t  4\n",
       "1         he did not answer\\t  3\n",
       "2            he got a raise\\t  2\n",
       "3      she got me a present\\t  0\n",
       "4  ha ha ha it was so funny\\t  2"
      ]
     },
     "execution_count": 4,
     "metadata": {},
     "output_type": "execute_result"
    }
   ],
   "source": [
    "test.head()"
   ]
  },
  {
   "cell_type": "code",
   "execution_count": 5,
   "id": "33b72524",
   "metadata": {},
   "outputs": [],
   "source": [
    "import emoji as emoji"
   ]
  },
  {
   "cell_type": "code",
   "execution_count": 6,
   "id": "289f2ff3",
   "metadata": {},
   "outputs": [],
   "source": [
    "emoji_dictionary = {\"0\": \"\\u2764\\uFE0F\",    # :heart: prints a black instead of red heart depending on the font\n",
    "                    \"1\": \":baseball:\",\n",
    "                    \"2\": \":beaming_face_with_smiling_eyes:\",\n",
    "                    \"3\": \":downcast_face_with_sweat:\",\n",
    "                    \"4\": \":fork_and_knife:\"\n",
    "                   }"
   ]
  },
  {
   "cell_type": "code",
   "execution_count": 7,
   "id": "e949eec2",
   "metadata": {},
   "outputs": [
    {
     "data": {
      "text/plain": [
       "'🚗'"
      ]
     },
     "execution_count": 7,
     "metadata": {},
     "output_type": "execute_result"
    }
   ],
   "source": [
    "emoji.emojize(\":automobile:\")"
   ]
  },
  {
   "cell_type": "code",
   "execution_count": 8,
   "id": "35a975d1",
   "metadata": {},
   "outputs": [
    {
     "name": "stdout",
     "output_type": "stream",
     "text": [
      "❤️\n",
      "⚾\n",
      "😁\n",
      "😓\n",
      "🍴\n"
     ]
    }
   ],
   "source": [
    "for e in emoji_dictionary.values():\n",
    "    print(emoji.emojize(e))"
   ]
  },
  {
   "cell_type": "code",
   "execution_count": 9,
   "id": "4dc34b85",
   "metadata": {},
   "outputs": [
    {
     "name": "stdout",
     "output_type": "stream",
     "text": [
      "never talk to me again 😓\n",
      "I am proud of your achievements 😁\n",
      "It is the worst day in my life 😓\n",
      "Miss you so much ❤️\n",
      "food is life 🍴\n",
      "I love you mum ❤️\n",
      "Stop saying bullshit 😓\n",
      "congratulations on your acceptance 😁\n",
      "The assignment is too long  😓\n",
      "I want to go play ⚾\n",
      "she did not answer my text  😓\n",
      "Your stupidity has no limit 😓\n",
      "how many points did he score ⚾\n",
      "my algorithm performs poorly 😓\n",
      "I got approved 😁\n",
      "Stop shouting at me 😓\n",
      "Sounds like a fun plan ha ha 😁\n",
      "no one likes him 😓\n",
      "the game just finished ⚾\n",
      "I will celebrate soon 😁\n",
      "So sad you are not coming 😓\n",
      "She is my dearest love ❤️\n",
      "Good job 😁\n",
      "It was funny lol 😁\n",
      "candy is life  😁\n",
      "The chicago cubs won again ⚾\n",
      "I am hungry 🍴\n",
      "I am so excited to see you after so long 😁\n",
      "you did well on you exam 😁\n",
      "lets brunch some day 🍴\n",
      "he is so cute ❤️\n",
      "How dare you ask that 😓\n",
      "do you want to join me for dinner  🍴\n",
      "I said yes 😁\n",
      "she is attractive ❤️\n",
      "you suck 😓\n",
      "she smiles a lot 😁\n",
      "he is laughing 😁\n",
      "she takes forever to get ready  😓\n",
      "French macaroon is so tasty 🍴\n",
      "we made it 😁\n",
      "I am excited 😁\n",
      "I adore my dogs ❤️\n",
      "Congratulations 😁\n",
      "this girl was mean 😓\n",
      "you two are cute ❤️\n",
      "my code is working but the grader gave me zero 😓\n",
      "this joke is killing me haha 😁\n",
      "do you like pizza  🍴\n",
      "you got a down grade 😓\n"
     ]
    }
   ],
   "source": [
    "data = train.values\n",
    "for i in range(50):\n",
    "    print(data[i][0],emoji.emojize(emoji_dictionary[str(data[i][1])]))"
   ]
  },
  {
   "cell_type": "code",
   "execution_count": 12,
   "id": "dcb70c50",
   "metadata": {},
   "outputs": [],
   "source": [
    "from keras.utils import to_categorical"
   ]
  },
  {
   "cell_type": "code",
   "execution_count": 13,
   "id": "d666af51",
   "metadata": {},
   "outputs": [
    {
     "name": "stdout",
     "output_type": "stream",
     "text": [
      "(132,)\n",
      "(56,)\n",
      "(132, 5)\n",
      "(56, 5)\n"
     ]
    }
   ],
   "source": [
    "X_train = train[0]\n",
    "X_test = test[0]\n",
    "\n",
    "Y_train = to_categorical(train[1])\n",
    "Y_test = to_categorical(test[1])\n",
    "\n",
    "\n",
    "print(X_train.shape)\n",
    "print(X_test.shape)\n",
    "print(Y_train.shape)\n",
    "print(Y_test.shape)"
   ]
  },
  {
   "cell_type": "code",
   "execution_count": 14,
   "id": "afc0db53",
   "metadata": {},
   "outputs": [],
   "source": [
    "embeddings = {}\n",
    "with open(r'glove.6B.50d.txt',encoding='utf-8') as f:\n",
    "    for line in f:\n",
    "        values = line.split()\n",
    "        word = values[0]\n",
    "        coeffs = np.asarray(values[1:],dtype='float32')\n",
    "        \n",
    "        #print(word)\n",
    "        #print(coeffs)\n",
    "        embeddings[word] = coeffs"
   ]
  },
  {
   "cell_type": "code",
   "execution_count": 15,
   "id": "f215a07c",
   "metadata": {},
   "outputs": [],
   "source": [
    "def getOutputEmbeddings(X):\n",
    "    \n",
    "    embedding_matrix_output = np.zeros((X.shape[0],10,50))\n",
    "    for ix in range(X.shape[0]):\n",
    "        X[ix] = X[ix].split()\n",
    "        for jx in range(len(X[ix])):\n",
    "            embedding_matrix_output[ix][jx] = embeddings[X[ix][jx].lower()]\n",
    "            \n",
    "    return embedding_matrix_output"
   ]
  },
  {
   "cell_type": "code",
   "execution_count": 16,
   "id": "698db2cf",
   "metadata": {},
   "outputs": [
    {
     "data": {
      "text/plain": [
       "'I am proud of your achievements'"
      ]
     },
     "execution_count": 16,
     "metadata": {},
     "output_type": "execute_result"
    }
   ],
   "source": [
    "X_train[1]"
   ]
  },
  {
   "cell_type": "code",
   "execution_count": 17,
   "id": "eb2b8255",
   "metadata": {},
   "outputs": [
    {
     "name": "stderr",
     "output_type": "stream",
     "text": [
      "C:\\Users\\Apoorva Priya\\AppData\\Local\\Temp/ipykernel_18348/2176504226.py:5: SettingWithCopyWarning: \n",
      "A value is trying to be set on a copy of a slice from a DataFrame\n",
      "\n",
      "See the caveats in the documentation: https://pandas.pydata.org/pandas-docs/stable/user_guide/indexing.html#returning-a-view-versus-a-copy\n",
      "  X[ix] = X[ix].split()\n"
     ]
    }
   ],
   "source": [
    "emb_Xtrain= getOutputEmbeddings(X_train)\n",
    "emb_Xtest= getOutputEmbeddings(X_test)"
   ]
  },
  {
   "cell_type": "code",
   "execution_count": 18,
   "id": "0e09e1eb",
   "metadata": {},
   "outputs": [
    {
     "name": "stdout",
     "output_type": "stream",
     "text": [
      "(132, 10, 50)\n",
      "(56, 10, 50)\n"
     ]
    }
   ],
   "source": [
    "print(emb_Xtrain.shape)\n",
    "print(emb_Xtest.shape)"
   ]
  },
  {
   "cell_type": "code",
   "execution_count": 19,
   "id": "5defd109",
   "metadata": {},
   "outputs": [],
   "source": [
    "from tensorflow.keras.layers import LSTM, Dropout, Dense, Activation\n",
    "from tensorflow.keras.models import Sequential"
   ]
  },
  {
   "cell_type": "code",
   "execution_count": 23,
   "id": "8966ea46",
   "metadata": {},
   "outputs": [
    {
     "name": "stdout",
     "output_type": "stream",
     "text": [
      "Model: \"sequential_1\"\n",
      "_________________________________________________________________\n",
      " Layer (type)                Output Shape              Param #   \n",
      "=================================================================\n",
      " lstm_2 (LSTM)               (None, 10, 64)            29440     \n",
      "                                                                 \n",
      " dropout_2 (Dropout)         (None, 10, 64)            0         \n",
      "                                                                 \n",
      " lstm_3 (LSTM)               (None, 64)                33024     \n",
      "                                                                 \n",
      " dropout_3 (Dropout)         (None, 64)                0         \n",
      "                                                                 \n",
      " dense_1 (Dense)             (None, 5)                 325       \n",
      "                                                                 \n",
      " activation_1 (Activation)   (None, 5)                 0         \n",
      "                                                                 \n",
      "=================================================================\n",
      "Total params: 62,789\n",
      "Trainable params: 62,789\n",
      "Non-trainable params: 0\n",
      "_________________________________________________________________\n"
     ]
    }
   ],
   "source": [
    "model = Sequential()\n",
    "model.add(LSTM(64,input_shape=(10,50),return_sequences=True))\n",
    "model.add(Dropout(0.4))\n",
    "model.add(LSTM(64,input_shape=(10,50)))\n",
    "model.add(Dropout(0.3))\n",
    "model.add(Dense(5))\n",
    "model.add(Activation('softmax'))\n",
    "model.summary()"
   ]
  },
  {
   "cell_type": "code",
   "execution_count": 24,
   "id": "e062280b",
   "metadata": {},
   "outputs": [
    {
     "name": "stdout",
     "output_type": "stream",
     "text": [
      "Epoch 1/100\n",
      "4/4 [==============================] - 11s 733ms/step - loss: 1.5909 - acc: 0.2881 - val_loss: 1.6148 - val_acc: 0.2857\n",
      "Epoch 2/100\n",
      "4/4 [==============================] - 0s 41ms/step - loss: 1.5227 - acc: 0.3136 - val_loss: 1.6249 - val_acc: 0.2857\n",
      "Epoch 3/100\n",
      "4/4 [==============================] - 0s 46ms/step - loss: 1.4830 - acc: 0.3390 - val_loss: 1.6501 - val_acc: 0.3571\n",
      "Epoch 4/100\n",
      "4/4 [==============================] - 0s 40ms/step - loss: 1.4289 - acc: 0.4576 - val_loss: 1.6194 - val_acc: 0.3571\n",
      "Epoch 5/100\n",
      "4/4 [==============================] - 0s 48ms/step - loss: 1.3986 - acc: 0.4068 - val_loss: 1.5424 - val_acc: 0.4286\n",
      "Epoch 6/100\n",
      "4/4 [==============================] - 0s 57ms/step - loss: 1.3361 - acc: 0.4576 - val_loss: 1.4752 - val_acc: 0.5000\n",
      "Epoch 7/100\n",
      "4/4 [==============================] - 0s 64ms/step - loss: 1.2426 - acc: 0.5424 - val_loss: 1.4451 - val_acc: 0.6429\n",
      "Epoch 8/100\n",
      "4/4 [==============================] - 0s 44ms/step - loss: 1.1511 - acc: 0.6186 - val_loss: 1.4353 - val_acc: 0.6429\n",
      "Epoch 9/100\n",
      "4/4 [==============================] - 0s 47ms/step - loss: 1.0764 - acc: 0.6186 - val_loss: 1.3818 - val_acc: 0.6429\n",
      "Epoch 10/100\n",
      "4/4 [==============================] - 0s 49ms/step - loss: 1.0103 - acc: 0.6610 - val_loss: 1.4333 - val_acc: 0.5000\n",
      "Epoch 11/100\n",
      "4/4 [==============================] - 0s 41ms/step - loss: 0.8905 - acc: 0.7119 - val_loss: 1.1521 - val_acc: 0.7143\n",
      "Epoch 12/100\n",
      "4/4 [==============================] - 0s 46ms/step - loss: 0.7756 - acc: 0.7627 - val_loss: 1.2376 - val_acc: 0.6429\n",
      "Epoch 13/100\n",
      "4/4 [==============================] - 0s 46ms/step - loss: 0.6966 - acc: 0.7627 - val_loss: 1.1083 - val_acc: 0.5714\n",
      "Epoch 14/100\n",
      "4/4 [==============================] - 0s 71ms/step - loss: 0.6484 - acc: 0.7881 - val_loss: 1.1634 - val_acc: 0.6429\n",
      "Epoch 15/100\n",
      "4/4 [==============================] - 0s 48ms/step - loss: 0.5261 - acc: 0.8390 - val_loss: 1.0672 - val_acc: 0.5714\n",
      "Epoch 16/100\n",
      "4/4 [==============================] - 0s 52ms/step - loss: 0.4679 - acc: 0.8559 - val_loss: 1.2587 - val_acc: 0.5000\n",
      "Epoch 17/100\n",
      "4/4 [==============================] - 0s 52ms/step - loss: 0.4792 - acc: 0.8390 - val_loss: 0.9053 - val_acc: 0.6429\n",
      "Epoch 18/100\n",
      "4/4 [==============================] - 0s 63ms/step - loss: 0.4376 - acc: 0.8644 - val_loss: 1.0345 - val_acc: 0.6429\n",
      "Epoch 19/100\n",
      "4/4 [==============================] - 0s 64ms/step - loss: 0.3631 - acc: 0.8898 - val_loss: 1.0849 - val_acc: 0.6429\n",
      "Epoch 20/100\n",
      "4/4 [==============================] - 0s 68ms/step - loss: 0.2690 - acc: 0.9153 - val_loss: 0.9039 - val_acc: 0.5714\n",
      "Epoch 21/100\n",
      "4/4 [==============================] - 0s 45ms/step - loss: 0.2849 - acc: 0.9153 - val_loss: 0.9677 - val_acc: 0.7143\n",
      "Epoch 22/100\n",
      "4/4 [==============================] - 0s 59ms/step - loss: 0.3174 - acc: 0.8898 - val_loss: 0.9520 - val_acc: 0.6429\n",
      "Epoch 23/100\n",
      "4/4 [==============================] - 0s 53ms/step - loss: 0.2588 - acc: 0.9153 - val_loss: 0.7608 - val_acc: 0.6429\n",
      "Epoch 24/100\n",
      "4/4 [==============================] - 0s 54ms/step - loss: 0.2424 - acc: 0.9237 - val_loss: 1.2579 - val_acc: 0.5000\n",
      "Epoch 25/100\n",
      "4/4 [==============================] - 0s 47ms/step - loss: 0.2376 - acc: 0.9068 - val_loss: 0.8762 - val_acc: 0.7143\n",
      "Epoch 26/100\n",
      "4/4 [==============================] - 0s 55ms/step - loss: 0.2796 - acc: 0.9237 - val_loss: 0.6476 - val_acc: 0.6429\n",
      "Epoch 27/100\n",
      "4/4 [==============================] - 0s 51ms/step - loss: 0.2045 - acc: 0.9322 - val_loss: 0.8616 - val_acc: 0.6429\n",
      "Epoch 28/100\n",
      "4/4 [==============================] - 0s 60ms/step - loss: 0.1712 - acc: 0.9576 - val_loss: 1.0012 - val_acc: 0.7143\n",
      "Epoch 29/100\n",
      "4/4 [==============================] - 0s 53ms/step - loss: 0.1307 - acc: 0.9492 - val_loss: 1.0255 - val_acc: 0.5714\n",
      "Epoch 30/100\n",
      "4/4 [==============================] - 0s 49ms/step - loss: 0.1271 - acc: 0.9576 - val_loss: 1.0539 - val_acc: 0.6429\n",
      "Epoch 31/100\n",
      "4/4 [==============================] - 0s 54ms/step - loss: 0.0845 - acc: 0.9746 - val_loss: 0.9666 - val_acc: 0.7143\n",
      "Epoch 32/100\n",
      "4/4 [==============================] - 0s 50ms/step - loss: 0.0826 - acc: 0.9831 - val_loss: 0.8190 - val_acc: 0.7143\n",
      "Epoch 33/100\n",
      "4/4 [==============================] - 0s 48ms/step - loss: 0.0533 - acc: 0.9915 - val_loss: 0.8009 - val_acc: 0.6429\n",
      "Epoch 34/100\n",
      "4/4 [==============================] - 0s 46ms/step - loss: 0.0527 - acc: 1.0000 - val_loss: 1.0824 - val_acc: 0.5714\n",
      "Epoch 35/100\n",
      "4/4 [==============================] - 0s 43ms/step - loss: 0.0795 - acc: 0.9746 - val_loss: 1.1842 - val_acc: 0.6429\n",
      "Epoch 36/100\n",
      "4/4 [==============================] - 0s 41ms/step - loss: 0.0598 - acc: 0.9746 - val_loss: 1.1572 - val_acc: 0.5714\n",
      "Epoch 37/100\n",
      "4/4 [==============================] - 0s 46ms/step - loss: 0.1002 - acc: 0.9746 - val_loss: 1.8144 - val_acc: 0.5714\n",
      "Epoch 38/100\n",
      "4/4 [==============================] - 0s 41ms/step - loss: 0.1087 - acc: 0.9661 - val_loss: 1.4400 - val_acc: 0.6429\n",
      "Epoch 39/100\n",
      "4/4 [==============================] - 0s 41ms/step - loss: 0.0557 - acc: 0.9831 - val_loss: 1.0213 - val_acc: 0.5714\n",
      "Epoch 40/100\n",
      "4/4 [==============================] - 0s 46ms/step - loss: 0.0725 - acc: 0.9831 - val_loss: 0.9826 - val_acc: 0.5714\n",
      "Epoch 41/100\n",
      "4/4 [==============================] - 0s 51ms/step - loss: 0.0285 - acc: 0.9915 - val_loss: 1.0392 - val_acc: 0.7143\n",
      "Epoch 42/100\n",
      "4/4 [==============================] - 0s 45ms/step - loss: 0.0509 - acc: 0.9831 - val_loss: 0.8287 - val_acc: 0.7143\n",
      "Epoch 43/100\n",
      "4/4 [==============================] - 0s 42ms/step - loss: 0.0439 - acc: 0.9915 - val_loss: 0.5418 - val_acc: 0.8571\n",
      "Epoch 44/100\n",
      "4/4 [==============================] - 0s 47ms/step - loss: 0.0535 - acc: 0.9831 - val_loss: 0.7100 - val_acc: 0.8571\n",
      "Epoch 45/100\n",
      "4/4 [==============================] - 0s 45ms/step - loss: 0.0577 - acc: 0.9831 - val_loss: 0.8851 - val_acc: 0.7143\n",
      "Epoch 46/100\n",
      "4/4 [==============================] - 0s 42ms/step - loss: 0.0613 - acc: 0.9831 - val_loss: 0.6506 - val_acc: 0.7857\n",
      "Epoch 47/100\n",
      "4/4 [==============================] - 0s 39ms/step - loss: 0.0685 - acc: 0.9661 - val_loss: 1.0548 - val_acc: 0.6429\n",
      "Epoch 48/100\n",
      "4/4 [==============================] - 0s 38ms/step - loss: 0.0229 - acc: 1.0000 - val_loss: 1.1700 - val_acc: 0.6429\n",
      "Epoch 49/100\n",
      "4/4 [==============================] - 0s 40ms/step - loss: 0.0610 - acc: 0.9831 - val_loss: 0.8316 - val_acc: 0.7857\n",
      "Epoch 50/100\n",
      "4/4 [==============================] - 0s 37ms/step - loss: 0.0433 - acc: 0.9915 - val_loss: 0.6312 - val_acc: 0.7857\n",
      "Epoch 51/100\n",
      "4/4 [==============================] - 0s 41ms/step - loss: 0.0318 - acc: 0.9915 - val_loss: 0.7800 - val_acc: 0.7857\n",
      "Epoch 52/100\n",
      "4/4 [==============================] - 0s 40ms/step - loss: 0.0246 - acc: 1.0000 - val_loss: 0.8162 - val_acc: 0.7143\n",
      "Epoch 53/100\n",
      "4/4 [==============================] - 0s 44ms/step - loss: 0.0233 - acc: 1.0000 - val_loss: 1.0628 - val_acc: 0.6429\n",
      "Epoch 54/100\n",
      "4/4 [==============================] - 0s 41ms/step - loss: 0.0128 - acc: 1.0000 - val_loss: 1.1926 - val_acc: 0.6429\n",
      "Epoch 55/100\n",
      "4/4 [==============================] - 0s 43ms/step - loss: 0.0161 - acc: 1.0000 - val_loss: 1.1354 - val_acc: 0.6429\n",
      "Epoch 56/100\n",
      "4/4 [==============================] - 0s 39ms/step - loss: 0.0118 - acc: 1.0000 - val_loss: 1.0696 - val_acc: 0.6429\n",
      "Epoch 57/100\n",
      "4/4 [==============================] - 0s 42ms/step - loss: 0.0132 - acc: 1.0000 - val_loss: 1.1634 - val_acc: 0.6429\n",
      "Epoch 58/100\n",
      "4/4 [==============================] - 0s 41ms/step - loss: 0.0094 - acc: 1.0000 - val_loss: 1.2539 - val_acc: 0.7143\n",
      "Epoch 59/100\n",
      "4/4 [==============================] - 0s 69ms/step - loss: 0.0108 - acc: 1.0000 - val_loss: 1.2782 - val_acc: 0.7143\n",
      "Epoch 60/100\n",
      "4/4 [==============================] - 0s 40ms/step - loss: 0.0126 - acc: 1.0000 - val_loss: 1.3940 - val_acc: 0.5714\n",
      "Epoch 61/100\n",
      "4/4 [==============================] - 0s 42ms/step - loss: 0.0122 - acc: 1.0000 - val_loss: 1.4560 - val_acc: 0.5714\n",
      "Epoch 62/100\n",
      "4/4 [==============================] - 0s 41ms/step - loss: 0.0106 - acc: 1.0000 - val_loss: 1.4054 - val_acc: 0.6429\n",
      "Epoch 63/100\n"
     ]
    },
    {
     "name": "stdout",
     "output_type": "stream",
     "text": [
      "4/4 [==============================] - 0s 37ms/step - loss: 0.0126 - acc: 1.0000 - val_loss: 1.4925 - val_acc: 0.6429\n",
      "Epoch 64/100\n",
      "4/4 [==============================] - 0s 41ms/step - loss: 0.0129 - acc: 1.0000 - val_loss: 1.5793 - val_acc: 0.5714\n",
      "Epoch 65/100\n",
      "4/4 [==============================] - 0s 56ms/step - loss: 0.0210 - acc: 0.9915 - val_loss: 1.3901 - val_acc: 0.5714\n",
      "Epoch 66/100\n",
      "4/4 [==============================] - 0s 52ms/step - loss: 0.0055 - acc: 1.0000 - val_loss: 1.0956 - val_acc: 0.7143\n",
      "Epoch 67/100\n",
      "4/4 [==============================] - 0s 43ms/step - loss: 0.0119 - acc: 1.0000 - val_loss: 1.0886 - val_acc: 0.7143\n",
      "Epoch 68/100\n",
      "4/4 [==============================] - 0s 44ms/step - loss: 0.0059 - acc: 1.0000 - val_loss: 1.2271 - val_acc: 0.5714\n",
      "Epoch 69/100\n",
      "4/4 [==============================] - 0s 37ms/step - loss: 0.0071 - acc: 1.0000 - val_loss: 1.3881 - val_acc: 0.5714\n",
      "Epoch 70/100\n",
      "4/4 [==============================] - 0s 42ms/step - loss: 0.0062 - acc: 1.0000 - val_loss: 1.4780 - val_acc: 0.5714\n",
      "Epoch 71/100\n",
      "4/4 [==============================] - 0s 52ms/step - loss: 0.0063 - acc: 1.0000 - val_loss: 1.4784 - val_acc: 0.5714\n",
      "Epoch 72/100\n",
      "4/4 [==============================] - 0s 51ms/step - loss: 0.0053 - acc: 1.0000 - val_loss: 1.4126 - val_acc: 0.5714\n",
      "Epoch 73/100\n",
      "4/4 [==============================] - 0s 49ms/step - loss: 0.0064 - acc: 1.0000 - val_loss: 1.3578 - val_acc: 0.5714\n",
      "Epoch 74/100\n",
      "4/4 [==============================] - 0s 47ms/step - loss: 0.0063 - acc: 1.0000 - val_loss: 1.3011 - val_acc: 0.5714\n",
      "Epoch 75/100\n",
      "4/4 [==============================] - 0s 45ms/step - loss: 0.0050 - acc: 1.0000 - val_loss: 1.2191 - val_acc: 0.5714\n",
      "Epoch 76/100\n",
      "4/4 [==============================] - 0s 49ms/step - loss: 0.0049 - acc: 1.0000 - val_loss: 1.2077 - val_acc: 0.5714\n",
      "Epoch 77/100\n",
      "4/4 [==============================] - 0s 44ms/step - loss: 0.0035 - acc: 1.0000 - val_loss: 1.2001 - val_acc: 0.5714\n",
      "Epoch 78/100\n",
      "4/4 [==============================] - 0s 38ms/step - loss: 0.0043 - acc: 1.0000 - val_loss: 1.2413 - val_acc: 0.5714\n",
      "Epoch 79/100\n",
      "4/4 [==============================] - 0s 39ms/step - loss: 0.0058 - acc: 1.0000 - val_loss: 1.2132 - val_acc: 0.6429\n",
      "Epoch 80/100\n",
      "4/4 [==============================] - 0s 47ms/step - loss: 0.0053 - acc: 1.0000 - val_loss: 1.2561 - val_acc: 0.6429\n",
      "Epoch 81/100\n",
      "4/4 [==============================] - 0s 41ms/step - loss: 0.0038 - acc: 1.0000 - val_loss: 1.4438 - val_acc: 0.5714\n",
      "Epoch 82/100\n",
      "4/4 [==============================] - 0s 44ms/step - loss: 0.0047 - acc: 1.0000 - val_loss: 1.5633 - val_acc: 0.5714\n",
      "Epoch 83/100\n",
      "4/4 [==============================] - 0s 37ms/step - loss: 0.0048 - acc: 1.0000 - val_loss: 1.5704 - val_acc: 0.5714\n",
      "Epoch 84/100\n",
      "4/4 [==============================] - 0s 53ms/step - loss: 0.0041 - acc: 1.0000 - val_loss: 1.4614 - val_acc: 0.5714\n",
      "Epoch 85/100\n",
      "4/4 [==============================] - 0s 54ms/step - loss: 0.0032 - acc: 1.0000 - val_loss: 1.2749 - val_acc: 0.5714\n",
      "Epoch 86/100\n",
      "4/4 [==============================] - 0s 37ms/step - loss: 0.0028 - acc: 1.0000 - val_loss: 1.1475 - val_acc: 0.5714\n",
      "Epoch 87/100\n",
      "4/4 [==============================] - 0s 59ms/step - loss: 0.0034 - acc: 1.0000 - val_loss: 1.1109 - val_acc: 0.5714\n",
      "Epoch 88/100\n",
      "4/4 [==============================] - 0s 60ms/step - loss: 0.0043 - acc: 1.0000 - val_loss: 1.2282 - val_acc: 0.5714\n",
      "Epoch 89/100\n",
      "4/4 [==============================] - 0s 48ms/step - loss: 0.0036 - acc: 1.0000 - val_loss: 1.3053 - val_acc: 0.5714\n",
      "Epoch 90/100\n",
      "4/4 [==============================] - 0s 52ms/step - loss: 0.0044 - acc: 1.0000 - val_loss: 1.3183 - val_acc: 0.5714\n",
      "Epoch 91/100\n",
      "4/4 [==============================] - 0s 51ms/step - loss: 0.0034 - acc: 1.0000 - val_loss: 1.3383 - val_acc: 0.5714\n",
      "Epoch 92/100\n",
      "4/4 [==============================] - 0s 52ms/step - loss: 0.0027 - acc: 1.0000 - val_loss: 1.3664 - val_acc: 0.5714\n",
      "Epoch 93/100\n",
      "4/4 [==============================] - 0s 44ms/step - loss: 0.0052 - acc: 1.0000 - val_loss: 1.4388 - val_acc: 0.5714\n",
      "Epoch 94/100\n",
      "4/4 [==============================] - 0s 54ms/step - loss: 0.0059 - acc: 1.0000 - val_loss: 1.5587 - val_acc: 0.5714\n",
      "Epoch 95/100\n",
      "4/4 [==============================] - 0s 43ms/step - loss: 0.0037 - acc: 1.0000 - val_loss: 1.7036 - val_acc: 0.5714\n",
      "Epoch 96/100\n",
      "4/4 [==============================] - 0s 39ms/step - loss: 0.0026 - acc: 1.0000 - val_loss: 1.7296 - val_acc: 0.5714\n",
      "Epoch 97/100\n",
      "4/4 [==============================] - 0s 49ms/step - loss: 0.0029 - acc: 1.0000 - val_loss: 1.7318 - val_acc: 0.5714\n",
      "Epoch 98/100\n",
      "4/4 [==============================] - 0s 63ms/step - loss: 0.0026 - acc: 1.0000 - val_loss: 1.7225 - val_acc: 0.5714\n",
      "Epoch 99/100\n",
      "4/4 [==============================] - 0s 39ms/step - loss: 0.0024 - acc: 1.0000 - val_loss: 1.7022 - val_acc: 0.5714\n",
      "Epoch 100/100\n",
      "4/4 [==============================] - 0s 39ms/step - loss: 0.0099 - acc: 1.0000 - val_loss: 1.0874 - val_acc: 0.7143\n"
     ]
    }
   ],
   "source": [
    "model.compile(optimizer='adam',loss='categorical_crossentropy',metrics=['acc'])\n",
    "history= model.fit(emb_Xtrain,Y_train,batch_size=32,epochs=100,shuffle=True,validation_split=0.1)"
   ]
  },
  {
   "cell_type": "code",
   "execution_count": 25,
   "id": "46b8d669",
   "metadata": {},
   "outputs": [],
   "source": [
    "import matplotlib.pyplot as plt"
   ]
  },
  {
   "cell_type": "code",
   "execution_count": 26,
   "id": "2b2df770",
   "metadata": {},
   "outputs": [
    {
     "data": {
      "image/png": "[encoded data removed]",
      "text/plain": [
       "<Figure size 432x288 with 1 Axes>"
      ]
     },
     "metadata": {
      "needs_background": "light"
     },
     "output_type": "display_data"
    }
   ],
   "source": [
    "plt.plot(history.history['acc'])\n",
    "plt.plot(history.history['val_acc'])\n",
    "plt.title('model accuracy')\n",
    "plt.ylabel('accuracy')\n",
    "plt.xlabel('epoch')\n",
    "plt.legend(['train', 'test'], loc='upper left')\n",
    "plt.show()"
   ]
  },
  {
   "cell_type": "code",
   "execution_count": 27,
   "id": "6d279550",
   "metadata": {},
   "outputs": [
    {
     "data": {
      "image/png": "[encoded data removed]",
      "text/plain": [
       "<Figure size 432x288 with 1 Axes>"
      ]
     },
     "metadata": {
      "needs_background": "light"
     },
     "output_type": "display_data"
    }
   ],
   "source": [
    "plt.plot(history.history['loss'])\n",
    "plt.plot(history.history['val_loss'])\n",
    "plt.title('model loss')\n",
    "plt.ylabel('loss')\n",
    "plt.xlabel('epoch')\n",
    "plt.legend(['train', 'test'], loc='upper right')\n",
    "plt.show()"
   ]
  },
  {
   "cell_type": "code",
   "execution_count": 28,
   "id": "bd01436c",
   "metadata": {},
   "outputs": [
    {
     "name": "stdout",
     "output_type": "stream",
     "text": [
      "2/2 [==============================] - 0s 10ms/step - loss: 2.1498 - acc: 0.5893\n"
     ]
    },
    {
     "data": {
      "text/plain": [
       "[2.1498239040374756, 0.5892857313156128]"
      ]
     },
     "execution_count": 28,
     "metadata": {},
     "output_type": "execute_result"
    }
   ],
   "source": [
    "model.evaluate(emb_Xtest,Y_test)"
   ]
  },
  {
   "cell_type": "code",
   "execution_count": 29,
   "id": "0cc0c548",
   "metadata": {},
   "outputs": [
    {
     "name": "stdout",
     "output_type": "stream",
     "text": [
      "2/2 [==============================] - 2s 20ms/step\n"
     ]
    }
   ],
   "source": [
    "pred = np.argmax(model.predict(emb_Xtest),axis=1)"
   ]
  },
  {
   "cell_type": "code",
   "execution_count": 30,
   "id": "ec3b883b",
   "metadata": {},
   "outputs": [
    {
     "name": "stdout",
     "output_type": "stream",
     "text": [
      "I want to eat\n",
      "🍴\n",
      "🍴\n",
      "he did not answer\n",
      "😓\n",
      "😓\n",
      "he got a raise\n",
      "😁\n",
      "😓\n",
      "she got me a present\n",
      "❤️\n",
      "😁\n",
      "ha ha ha it was so funny\n",
      "😁\n",
      "😁\n",
      "he is a good friend\n",
      "❤️\n",
      "😁\n",
      "I am upset\n",
      "❤️\n",
      "⚾\n",
      "We had such a lovely dinner tonight\n",
      "❤️\n",
      "😁\n",
      "where is the food\n",
      "🍴\n",
      "🍴\n",
      "Stop making this joke ha ha ha\n",
      "😁\n",
      "😁\n",
      "where is the ball\n",
      "⚾\n",
      "⚾\n",
      "work is hard\n",
      "😓\n",
      "😁\n",
      "This girl is messing with me\n",
      "😓\n",
      "❤️\n",
      "are you serious ha ha\n",
      "😁\n",
      "😓\n",
      "Let us go play baseball\n",
      "⚾\n",
      "⚾\n",
      "This stupid grader is not working\n",
      "😓\n",
      "😓\n",
      "work is horrible\n",
      "😓\n",
      "😓\n",
      "Congratulation for having a baby\n",
      "😁\n",
      "😁\n",
      "stop messing around\n",
      "😓\n",
      "⚾\n",
      "any suggestions for dinner\n",
      "🍴\n",
      "🍴\n",
      "I love taking breaks\n",
      "❤️\n",
      "❤️\n",
      "you brighten my day\n",
      "😁\n",
      "❤️\n",
      "I boiled rice\n",
      "🍴\n",
      "🍴\n",
      "she is a bully\n",
      "😓\n",
      "😓\n",
      "Why are you feeling bad\n",
      "😓\n",
      "😓\n",
      "I am upset\n",
      "😓\n",
      "⚾\n",
      "I worked during my birthday\n",
      "😓\n",
      "😁\n",
      "My grandmother is the love of my life\n",
      "❤️\n",
      "❤️\n",
      "enjoy your break\n",
      "😁\n",
      "⚾\n",
      "valentine day is near\n",
      "❤️\n",
      "😁\n"
     ]
    }
   ],
   "source": [
    "for i in range(30):\n",
    "    print(' '.join(X_test[i]))\n",
    "    print(emoji.emojize(emoji_dictionary[str(np.argmax(Y_test[i]))]))\n",
    "    print(emoji.emojize(emoji_dictionary[str(pred[i])]))"
   ]
  },
  {
   "cell_type": "code",
   "execution_count": 31,
   "id": "b7fe6aa6",
   "metadata": {},
   "outputs": [],
   "source": [
    "with open(\"model.json\", \"w\") as file:\n",
    "    file.write(model.to_json())\n",
    "model.save_weights(\"model.h5\")"
   ]
  },
  {
   "cell_type": "code",
   "execution_count": 32,
   "id": "900da2ea",
   "metadata": {},
   "outputs": [],
   "source": [
    "from keras.models import model_from_json"
   ]
  },
  {
   "cell_type": "code",
   "execution_count": 33,
   "id": "8e5547ba",
   "metadata": {},
   "outputs": [],
   "source": [
    "with open(\"model.json\", \"r\") as file:\n",
    "    model = model_from_json(file.read())\n",
    "model.load_weights(\"model.h5\")"
   ]
  },
  {
   "cell_type": "code",
   "execution_count": 34,
   "id": "b9056e63",
   "metadata": {},
   "outputs": [
    {
     "name": "stdout",
     "output_type": "stream",
     "text": [
      "1/1 [==============================] - 2s 2s/step\n",
      "its so painful\n",
      "😓\n"
     ]
    }
   ],
   "source": [
    "test_str = \"its so painful\"\n",
    "X = pd.Series([test_str])\n",
    "emb_X = getOutputEmbeddings(X)\n",
    "p = np.argmax(model.predict(emb_X),axis=1)\n",
    "print(' '.join(X[0]))\n",
    "print(emoji.emojize(emoji_dictionary[str(p[0])]))"
   ]
  },
  {
   "cell_type": "code",
   "execution_count": null,
   "id": "080f32f9",
   "metadata": {},
   "outputs": [],
   "source": []
  }
 ],
 "metadata": {
  "kernelspec": {
   "display_name": "Python 3 (ipykernel)",
   "language": "python",
   "name": "python3"
  },
  "language_info": {
   "codemirror_mode": {
    "name": "ipython",
    "version": 3
   },
   "file_extension": ".py",
   "mimetype": "text/x-python",
   "name": "python",
   "nbconvert_exporter": "python",
   "pygments_lexer": "ipython3",
   "version": "3.9.7"
  }
 },
 "nbformat": 4,
 "nbformat_minor": 5
}
