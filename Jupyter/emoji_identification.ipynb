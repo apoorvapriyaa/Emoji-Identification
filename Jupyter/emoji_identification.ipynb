{
 "cells": [
  {
   "cell_type": "code",
   "execution_count": 1,
   "id": "dcd9aa3a",
   "metadata": {},
   "outputs": [
    {
     "name": "stdout",
     "output_type": "stream",
     "text": [
      "Requirement already satisfied: emoji in c:\\users\\apoorva priya\\anaconda3\\lib\\site-packages (2.2.0)\n"
     ]
    }
   ],
   "source": [
    "!pip install emoji"
   ]
  },
  {
   "cell_type": "code",
   "execution_count": 2,
   "id": "67c74956",
   "metadata": {},
   "outputs": [],
   "source": [
    "import numpy as np\n",
    "import pandas as pd"
   ]
  },
  {
   "cell_type": "code",
   "execution_count": 3,
   "id": "4423eb96",
   "metadata": {},
   "outputs": [
    {
     "data": {
      "text/html": [
       "<div>\n",
       "<style scoped>\n",
       "    .dataframe tbody tr th:only-of-type {\n",
       "        vertical-align: middle;\n",
       "    }\n",
       "\n",
       "    .dataframe tbody tr th {\n",
       "        vertical-align: top;\n",
       "    }\n",
       "\n",
       "    .dataframe thead th {\n",
       "        text-align: right;\n",
       "    }\n",
       "</style>\n",
       "<table border=\"1\" class=\"dataframe\">\n",
       "  <thead>\n",
       "    <tr style=\"text-align: right;\">\n",
       "      <th></th>\n",
       "      <th>0</th>\n",
       "      <th>1</th>\n",
       "    </tr>\n",
       "  </thead>\n",
       "  <tbody>\n",
       "    <tr>\n",
       "      <th>0</th>\n",
       "      <td>never talk to me again</td>\n",
       "      <td>3</td>\n",
       "    </tr>\n",
       "    <tr>\n",
       "      <th>1</th>\n",
       "      <td>I am proud of your achievements</td>\n",
       "      <td>2</td>\n",
       "    </tr>\n",
       "    <tr>\n",
       "      <th>2</th>\n",
       "      <td>It is the worst day in my life</td>\n",
       "      <td>3</td>\n",
       "    </tr>\n",
       "    <tr>\n",
       "      <th>3</th>\n",
       "      <td>Miss you so much</td>\n",
       "      <td>0</td>\n",
       "    </tr>\n",
       "    <tr>\n",
       "      <th>4</th>\n",
       "      <td>food is life</td>\n",
       "      <td>4</td>\n",
       "    </tr>\n",
       "  </tbody>\n",
       "</table>\n",
       "</div>"
      ],
      "text/plain": [
       "                                 0  1\n",
       "0           never talk to me again  3\n",
       "1  I am proud of your achievements  2\n",
       "2   It is the worst day in my life  3\n",
       "3                 Miss you so much  0\n",
       "4                     food is life  4"
      ]
     },
     "execution_count": 3,
     "metadata": {},
     "output_type": "execute_result"
    }
   ],
   "source": [
    "train= pd.read_csv(\"train_emoji.csv\", header=None)\n",
    "train.drop(labels=[2, 3], axis=1, inplace=True)\n",
    "test= pd.read_csv(\"test_emoji.csv\", header= None)\n",
    "train.head()"
   ]
  },
  {
   "cell_type": "code",
   "execution_count": 4,
   "id": "4b25dbb0",
   "metadata": {},
   "outputs": [
    {
     "data": {
      "text/html": [
       "<div>\n",
       "<style scoped>\n",
       "    .dataframe tbody tr th:only-of-type {\n",
       "        vertical-align: middle;\n",
       "    }\n",
       "\n",
       "    .dataframe tbody tr th {\n",
       "        vertical-align: top;\n",
       "    }\n",
       "\n",
       "    .dataframe thead th {\n",
       "        text-align: right;\n",
       "    }\n",
       "</style>\n",
       "<table border=\"1\" class=\"dataframe\">\n",
       "  <thead>\n",
       "    <tr style=\"text-align: right;\">\n",
       "      <th></th>\n",
       "      <th>0</th>\n",
       "      <th>1</th>\n",
       "    </tr>\n",
       "  </thead>\n",
       "  <tbody>\n",
       "    <tr>\n",
       "      <th>0</th>\n",
       "      <td>I want to eat\\t</td>\n",
       "      <td>4</td>\n",
       "    </tr>\n",
       "    <tr>\n",
       "      <th>1</th>\n",
       "      <td>he did not answer\\t</td>\n",
       "      <td>3</td>\n",
       "    </tr>\n",
       "    <tr>\n",
       "      <th>2</th>\n",
       "      <td>he got a raise\\t</td>\n",
       "      <td>2</td>\n",
       "    </tr>\n",
       "    <tr>\n",
       "      <th>3</th>\n",
       "      <td>she got me a present\\t</td>\n",
       "      <td>0</td>\n",
       "    </tr>\n",
       "    <tr>\n",
       "      <th>4</th>\n",
       "      <td>ha ha ha it was so funny\\t</td>\n",
       "      <td>2</td>\n",
       "    </tr>\n",
       "  </tbody>\n",
       "</table>\n",
       "</div>"
      ],
      "text/plain": [
       "                            0  1\n",
       "0             I want to eat\\t  4\n",
       "1         he did not answer\\t  3\n",
       "2            he got a raise\\t  2\n",
       "3      she got me a present\\t  0\n",
       "4  ha ha ha it was so funny\\t  2"
      ]
     },
     "execution_count": 4,
     "metadata": {},
     "output_type": "execute_result"
    }
   ],
   "source": [
    "test.head()"
   ]
  },
  {
   "cell_type": "code",
   "execution_count": 5,
   "id": "275cc9ca",
   "metadata": {},
   "outputs": [],
   "source": [
    "import emoji as emoji"
   ]
  },
  {
   "cell_type": "code",
   "execution_count": 6,
   "id": "faa955f5",
   "metadata": {},
   "outputs": [],
   "source": [
    "emoji_dictionary = {\"0\": \"\\u2764\\uFE0F\",    # :heart: prints a black instead of red heart depending on the font\n",
    "                    \"1\": \":baseball:\",\n",
    "                    \"2\": \":beaming_face_with_smiling_eyes:\",\n",
    "                    \"3\": \":downcast_face_with_sweat:\",\n",
    "                    \"4\": \":fork_and_knife:\"\n",
    "                   }"
   ]
  },
  {
   "cell_type": "code",
   "execution_count": 7,
   "id": "6e1b69aa",
   "metadata": {},
   "outputs": [
    {
     "data": {
      "text/plain": [
       "'😀'"
      ]
     },
     "execution_count": 7,
     "metadata": {},
     "output_type": "execute_result"
    }
   ],
   "source": [
    "emoji.emojize(\":grinning_face:\")"
   ]
  },
  {
   "cell_type": "code",
   "execution_count": 8,
   "id": "f8655c4d",
   "metadata": {},
   "outputs": [
    {
     "name": "stdout",
     "output_type": "stream",
     "text": [
      "❤️\n",
      "⚾\n",
      "😁\n",
      "😓\n",
      "🍴\n"
     ]
    }
   ],
   "source": [
    "for e in emoji_dictionary.values():\n",
    "    print(emoji.emojize(e))"
   ]
  },
  {
   "cell_type": "code",
   "execution_count": 9,
   "id": "0d38110b",
   "metadata": {},
   "outputs": [
    {
     "name": "stdout",
     "output_type": "stream",
     "text": [
      "never talk to me again 😓\n",
      "I am proud of your achievements 😁\n",
      "It is the worst day in my life 😓\n",
      "Miss you so much ❤️\n",
      "food is life 🍴\n",
      "I love you mum ❤️\n",
      "Stop saying bullshit 😓\n",
      "congratulations on your acceptance 😁\n",
      "The assignment is too long  😓\n",
      "I want to go play ⚾\n",
      "she did not answer my text  😓\n",
      "Your stupidity has no limit 😓\n",
      "how many points did he score ⚾\n",
      "my algorithm performs poorly 😓\n",
      "I got approved 😁\n",
      "Stop shouting at me 😓\n",
      "Sounds like a fun plan ha ha 😁\n",
      "no one likes him 😓\n",
      "the game just finished ⚾\n",
      "I will celebrate soon 😁\n",
      "So sad you are not coming 😓\n",
      "She is my dearest love ❤️\n",
      "Good job 😁\n",
      "It was funny lol 😁\n",
      "candy is life  😁\n"
     ]
    }
   ],
   "source": [
    "data = train.values\n",
    "for i in range(25):\n",
    "    print(data[i][0],emoji.emojize(emoji_dictionary[str(data[i][1])]))"
   ]
  },
  {
   "cell_type": "code",
   "execution_count": 39,
   "id": "19f527b7",
   "metadata": {},
   "outputs": [],
   "source": [
    "from keras.utils import to_categorical\n",
    "\n",
    "X_train= train[0]\n",
    "Y_train= train[1]\n",
    "\n",
    "X_test= test[0]\n",
    "Y_test= test[1]\n",
    "    \n",
    "Y_train = to_categorical(Y_train)\n",
    "Y_test= to_categorical(Y_test)\n",
    "\n",
    "X_test = np.asarray(X_test)\n",
    "Y_test = np.asarray(Y_test)\n",
    "X_train= np.asarray(X_train)\n",
    "Y_train= np.asarray(Y_train)"
   ]
  },
  {
   "cell_type": "code",
   "execution_count": 60,
   "id": "f3a14a6d",
   "metadata": {},
   "outputs": [
    {
     "name": "stdout",
     "output_type": "stream",
     "text": [
      "(132,)\n",
      "(56,)\n",
      "(132, 5)\n",
      "(56, 5)\n",
      "[0. 0. 1. 0. 0.]\n"
     ]
    }
   ],
   "source": [
    "print(X_train.shape)\n",
    "print(X_test.shape)\n",
    "print(Y_train.shape)\n",
    "print(Y_test.shape)\n",
    "\n",
    "print(Y_test[4])"
   ]
  },
  {
   "cell_type": "code",
   "execution_count": 41,
   "id": "1c4332e2",
   "metadata": {},
   "outputs": [],
   "source": [
    "embeddings = {}\n",
    "with open(r'glove.6B.50d.txt',encoding='utf-8') as f:\n",
    "    for line in f:\n",
    "        values = line.split()\n",
    "        word = values[0]\n",
    "        coeffs = np.asarray(values[1:],dtype='float32')\n",
    "\n",
    "        embeddings[word] = coeffs"
   ]
  },
  {
   "cell_type": "code",
   "execution_count": 42,
   "id": "88e14c71",
   "metadata": {},
   "outputs": [],
   "source": [
    "def getOutputEmbeddings(X):\n",
    "    \n",
    "    embedding_matrix_output = np.zeros((X.shape[0],10,50))\n",
    "    for ix in range(X.shape[0]):\n",
    "        X[ix] = X[ix].split()\n",
    "        for jx in range(len(X[ix])):\n",
    "            embedding_matrix_output[ix][jx] = embeddings[X[ix][jx].lower()]\n",
    "            \n",
    "    return embedding_matrix_output"
   ]
  },
  {
   "cell_type": "code",
   "execution_count": 43,
   "id": "81a2d4d7",
   "metadata": {},
   "outputs": [],
   "source": [
    "def listToString(s):\n",
    "    str1 = \" \"\n",
    "    return (str1.join(s))"
   ]
  },
  {
   "cell_type": "code",
   "execution_count": 54,
   "id": "55ce1ba1",
   "metadata": {},
   "outputs": [
    {
     "name": "stdout",
     "output_type": "stream",
     "text": [
      "n                               e                               v                               e                               r                               t                               a                               l                               k                               t                               o                               m                               e                               a                               g                               a                               i                               n\n"
     ]
    }
   ],
   "source": [
    "print(X_train[0])"
   ]
  },
  {
   "cell_type": "code",
   "execution_count": 28,
   "id": "0561454b",
   "metadata": {},
   "outputs": [
    {
     "ename": "IndexError",
     "evalue": "index 10 is out of bounds for axis 0 with size 10",
     "output_type": "error",
     "traceback": [
      "\u001b[1;31m---------------------------------------------------------------------------\u001b[0m",
      "\u001b[1;31mIndexError\u001b[0m                                Traceback (most recent call last)",
      "\u001b[1;32m~\\AppData\\Local\\Temp/ipykernel_4224/4217733870.py\u001b[0m in \u001b[0;36m<module>\u001b[1;34m\u001b[0m\n\u001b[1;32m----> 1\u001b[1;33m \u001b[0memb_XTrain\u001b[0m\u001b[1;33m=\u001b[0m \u001b[0mgetOutputEmbeddings\u001b[0m\u001b[1;33m(\u001b[0m\u001b[0mX_train\u001b[0m\u001b[1;33m)\u001b[0m\u001b[1;33m\u001b[0m\u001b[1;33m\u001b[0m\u001b[0m\n\u001b[0m\u001b[0;32m      2\u001b[0m \u001b[0memb_XTest\u001b[0m\u001b[1;33m=\u001b[0m \u001b[0mgetOutputEmbeddings\u001b[0m\u001b[1;33m(\u001b[0m\u001b[0mX_test\u001b[0m\u001b[1;33m)\u001b[0m\u001b[1;33m\u001b[0m\u001b[1;33m\u001b[0m\u001b[0m\n",
      "\u001b[1;32m~\\AppData\\Local\\Temp/ipykernel_4224/2176504226.py\u001b[0m in \u001b[0;36mgetOutputEmbeddings\u001b[1;34m(X)\u001b[0m\n\u001b[0;32m      5\u001b[0m         \u001b[0mX\u001b[0m\u001b[1;33m[\u001b[0m\u001b[0mix\u001b[0m\u001b[1;33m]\u001b[0m \u001b[1;33m=\u001b[0m \u001b[0mX\u001b[0m\u001b[1;33m[\u001b[0m\u001b[0mix\u001b[0m\u001b[1;33m]\u001b[0m\u001b[1;33m.\u001b[0m\u001b[0msplit\u001b[0m\u001b[1;33m(\u001b[0m\u001b[1;33m)\u001b[0m\u001b[1;33m\u001b[0m\u001b[1;33m\u001b[0m\u001b[0m\n\u001b[0;32m      6\u001b[0m         \u001b[1;32mfor\u001b[0m \u001b[0mjx\u001b[0m \u001b[1;32min\u001b[0m \u001b[0mrange\u001b[0m\u001b[1;33m(\u001b[0m\u001b[0mlen\u001b[0m\u001b[1;33m(\u001b[0m\u001b[0mX\u001b[0m\u001b[1;33m[\u001b[0m\u001b[0mix\u001b[0m\u001b[1;33m]\u001b[0m\u001b[1;33m)\u001b[0m\u001b[1;33m)\u001b[0m\u001b[1;33m:\u001b[0m\u001b[1;33m\u001b[0m\u001b[1;33m\u001b[0m\u001b[0m\n\u001b[1;32m----> 7\u001b[1;33m             \u001b[0membedding_matrix_output\u001b[0m\u001b[1;33m[\u001b[0m\u001b[0mix\u001b[0m\u001b[1;33m]\u001b[0m\u001b[1;33m[\u001b[0m\u001b[0mjx\u001b[0m\u001b[1;33m]\u001b[0m \u001b[1;33m=\u001b[0m \u001b[0membeddings\u001b[0m\u001b[1;33m[\u001b[0m\u001b[0mX\u001b[0m\u001b[1;33m[\u001b[0m\u001b[0mix\u001b[0m\u001b[1;33m]\u001b[0m\u001b[1;33m[\u001b[0m\u001b[0mjx\u001b[0m\u001b[1;33m]\u001b[0m\u001b[1;33m.\u001b[0m\u001b[0mlower\u001b[0m\u001b[1;33m(\u001b[0m\u001b[1;33m)\u001b[0m\u001b[1;33m]\u001b[0m\u001b[1;33m\u001b[0m\u001b[1;33m\u001b[0m\u001b[0m\n\u001b[0m\u001b[0;32m      8\u001b[0m \u001b[1;33m\u001b[0m\u001b[0m\n\u001b[0;32m      9\u001b[0m     \u001b[1;32mreturn\u001b[0m \u001b[0membedding_matrix_output\u001b[0m\u001b[1;33m\u001b[0m\u001b[1;33m\u001b[0m\u001b[0m\n",
      "\u001b[1;31mIndexError\u001b[0m: index 10 is out of bounds for axis 0 with size 10"
     ]
    }
   ],
   "source": [
    "emb_XTrain= getOutputEmbeddings(X_train)\n",
    "emb_XTest= getOutputEmbeddings(X_test)"
   ]
  },
  {
   "cell_type": "code",
   "execution_count": 171,
   "id": "683a639c",
   "metadata": {},
   "outputs": [
    {
     "name": "stdout",
     "output_type": "stream",
     "text": [
      "(132, 10, 50)\n",
      "(56, 10, 50)\n"
     ]
    }
   ],
   "source": [
    "print(emb_XTrain.shape)\n",
    "print(emb_XTest.shape)"
   ]
  },
  {
   "cell_type": "code",
   "execution_count": 172,
   "id": "171691bb",
   "metadata": {},
   "outputs": [],
   "source": [
    "from tensorflow.keras.layers import LSTM, Dropout, Dense, Activation\n",
    "from tensorflow.keras.models import Sequential"
   ]
  },
  {
   "cell_type": "code",
   "execution_count": 173,
   "id": "80f57a9c",
   "metadata": {},
   "outputs": [
    {
     "name": "stdout",
     "output_type": "stream",
     "text": [
      "Model: \"sequential_4\"\n",
      "_________________________________________________________________\n",
      " Layer (type)                Output Shape              Param #   \n",
      "=================================================================\n",
      " lstm_8 (LSTM)               (None, 10, 64)            29440     \n",
      "                                                                 \n",
      " dropout_8 (Dropout)         (None, 10, 64)            0         \n",
      "                                                                 \n",
      " lstm_9 (LSTM)               (None, 64)                33024     \n",
      "                                                                 \n",
      " dropout_9 (Dropout)         (None, 64)                0         \n",
      "                                                                 \n",
      " dense_4 (Dense)             (None, 5)                 325       \n",
      "                                                                 \n",
      " activation_4 (Activation)   (None, 5)                 0         \n",
      "                                                                 \n",
      "=================================================================\n",
      "Total params: 62,789\n",
      "Trainable params: 62,789\n",
      "Non-trainable params: 0\n",
      "_________________________________________________________________\n"
     ]
    }
   ],
   "source": [
    "model = Sequential()\n",
    "model.add(LSTM(64,input_shape=(10,50),return_sequences=True))\n",
    "model.add(Dropout(0.4))\n",
    "model.add(LSTM(64,input_shape=(10,50)))\n",
    "model.add(Dropout(0.3))\n",
    "model.add(Dense(5))\n",
    "model.add(Activation('softmax'))\n",
    "model.summary()"
   ]
  },
  {
   "cell_type": "code",
   "execution_count": 174,
   "id": "f7484220",
   "metadata": {},
   "outputs": [
    {
     "name": "stdout",
     "output_type": "stream",
     "text": [
      "Epoch 1/100\n",
      "4/4 [==============================] - 4s 240ms/step - loss: 1.5952 - acc: 0.2712 - val_loss: 1.6219 - val_acc: 0.2857\n",
      "Epoch 2/100\n",
      "4/4 [==============================] - 0s 16ms/step - loss: 1.5543 - acc: 0.3644 - val_loss: 1.6679 - val_acc: 0.0714\n",
      "Epoch 3/100\n",
      "4/4 [==============================] - 0s 16ms/step - loss: 1.5089 - acc: 0.3390 - val_loss: 1.6814 - val_acc: 0.0714\n",
      "Epoch 4/100\n",
      "4/4 [==============================] - 0s 16ms/step - loss: 1.5083 - acc: 0.3051 - val_loss: 1.6639 - val_acc: 0.0714\n",
      "Epoch 5/100\n",
      "4/4 [==============================] - 0s 17ms/step - loss: 1.4683 - acc: 0.3983 - val_loss: 1.6168 - val_acc: 0.2857\n",
      "Epoch 6/100\n",
      "4/4 [==============================] - 0s 17ms/step - loss: 1.4310 - acc: 0.3729 - val_loss: 1.5812 - val_acc: 0.2143\n",
      "Epoch 7/100\n",
      "4/4 [==============================] - 0s 16ms/step - loss: 1.3966 - acc: 0.3898 - val_loss: 1.5110 - val_acc: 0.2857\n",
      "Epoch 8/100\n",
      "4/4 [==============================] - 0s 17ms/step - loss: 1.3186 - acc: 0.5424 - val_loss: 1.4335 - val_acc: 0.5000\n",
      "Epoch 9/100\n",
      "4/4 [==============================] - 0s 17ms/step - loss: 1.2438 - acc: 0.5424 - val_loss: 1.3573 - val_acc: 0.5714\n",
      "Epoch 10/100\n",
      "4/4 [==============================] - 0s 16ms/step - loss: 1.1191 - acc: 0.6525 - val_loss: 1.2602 - val_acc: 0.5714\n",
      "Epoch 11/100\n",
      "4/4 [==============================] - 0s 17ms/step - loss: 1.0096 - acc: 0.6695 - val_loss: 1.2706 - val_acc: 0.5000\n",
      "Epoch 12/100\n",
      "4/4 [==============================] - 0s 16ms/step - loss: 0.9289 - acc: 0.7119 - val_loss: 1.2153 - val_acc: 0.5714\n",
      "Epoch 13/100\n",
      "4/4 [==============================] - 0s 17ms/step - loss: 0.8482 - acc: 0.7119 - val_loss: 1.0546 - val_acc: 0.7143\n",
      "Epoch 14/100\n",
      "4/4 [==============================] - 0s 16ms/step - loss: 0.7400 - acc: 0.7712 - val_loss: 1.0062 - val_acc: 0.7143\n",
      "Epoch 15/100\n",
      "4/4 [==============================] - 0s 16ms/step - loss: 0.5985 - acc: 0.8305 - val_loss: 1.0628 - val_acc: 0.7143\n",
      "Epoch 16/100\n",
      "4/4 [==============================] - 0s 17ms/step - loss: 0.5862 - acc: 0.8390 - val_loss: 1.0991 - val_acc: 0.5714\n",
      "Epoch 17/100\n",
      "4/4 [==============================] - 0s 15ms/step - loss: 0.4821 - acc: 0.8814 - val_loss: 1.1724 - val_acc: 0.6429\n",
      "Epoch 18/100\n",
      "4/4 [==============================] - 0s 17ms/step - loss: 0.4229 - acc: 0.8729 - val_loss: 0.9179 - val_acc: 0.7857\n",
      "Epoch 19/100\n",
      "4/4 [==============================] - 0s 17ms/step - loss: 0.3853 - acc: 0.9068 - val_loss: 0.8889 - val_acc: 0.6429\n",
      "Epoch 20/100\n",
      "4/4 [==============================] - 0s 17ms/step - loss: 0.3936 - acc: 0.8814 - val_loss: 0.8856 - val_acc: 0.7857\n",
      "Epoch 21/100\n",
      "4/4 [==============================] - 0s 17ms/step - loss: 0.3034 - acc: 0.9068 - val_loss: 1.2639 - val_acc: 0.4286\n",
      "Epoch 22/100\n",
      "4/4 [==============================] - 0s 16ms/step - loss: 0.3554 - acc: 0.8559 - val_loss: 0.6307 - val_acc: 0.7857\n",
      "Epoch 23/100\n",
      "4/4 [==============================] - 0s 16ms/step - loss: 0.3873 - acc: 0.8644 - val_loss: 0.9052 - val_acc: 0.6429\n",
      "Epoch 24/100\n",
      "4/4 [==============================] - 0s 16ms/step - loss: 0.3239 - acc: 0.8983 - val_loss: 0.8824 - val_acc: 0.7857\n",
      "Epoch 25/100\n",
      "4/4 [==============================] - 0s 17ms/step - loss: 0.3202 - acc: 0.8983 - val_loss: 0.6727 - val_acc: 0.8571\n",
      "Epoch 26/100\n",
      "4/4 [==============================] - 0s 17ms/step - loss: 0.3819 - acc: 0.8559 - val_loss: 0.8744 - val_acc: 0.7143\n",
      "Epoch 27/100\n",
      "4/4 [==============================] - 0s 16ms/step - loss: 0.2359 - acc: 0.9068 - val_loss: 0.9267 - val_acc: 0.6429\n",
      "Epoch 28/100\n",
      "4/4 [==============================] - 0s 17ms/step - loss: 0.1910 - acc: 0.9407 - val_loss: 0.7719 - val_acc: 0.7857\n",
      "Epoch 29/100\n",
      "4/4 [==============================] - 0s 16ms/step - loss: 0.1791 - acc: 0.9576 - val_loss: 0.6182 - val_acc: 0.7857\n",
      "Epoch 30/100\n",
      "4/4 [==============================] - 0s 16ms/step - loss: 0.1679 - acc: 0.9576 - val_loss: 0.5289 - val_acc: 0.7857\n",
      "Epoch 31/100\n",
      "4/4 [==============================] - 0s 16ms/step - loss: 0.1307 - acc: 0.9661 - val_loss: 0.5361 - val_acc: 0.7857\n",
      "Epoch 32/100\n",
      "4/4 [==============================] - 0s 16ms/step - loss: 0.1308 - acc: 0.9661 - val_loss: 0.8563 - val_acc: 0.6429\n",
      "Epoch 33/100\n",
      "4/4 [==============================] - 0s 16ms/step - loss: 0.1315 - acc: 0.9492 - val_loss: 0.9448 - val_acc: 0.7143\n",
      "Epoch 34/100\n",
      "4/4 [==============================] - 0s 16ms/step - loss: 0.1080 - acc: 0.9746 - val_loss: 0.6549 - val_acc: 0.7857\n",
      "Epoch 35/100\n",
      "4/4 [==============================] - 0s 18ms/step - loss: 0.1032 - acc: 0.9746 - val_loss: 0.7669 - val_acc: 0.7857\n",
      "Epoch 36/100\n",
      "4/4 [==============================] - 0s 18ms/step - loss: 0.0979 - acc: 0.9407 - val_loss: 0.9302 - val_acc: 0.7143\n",
      "Epoch 37/100\n",
      "4/4 [==============================] - 0s 17ms/step - loss: 0.0808 - acc: 0.9746 - val_loss: 0.7208 - val_acc: 0.8571\n",
      "Epoch 38/100\n",
      "4/4 [==============================] - 0s 16ms/step - loss: 0.0708 - acc: 0.9831 - val_loss: 0.9946 - val_acc: 0.6429\n",
      "Epoch 39/100\n",
      "4/4 [==============================] - 0s 17ms/step - loss: 0.0872 - acc: 0.9661 - val_loss: 0.8077 - val_acc: 0.7857\n",
      "Epoch 40/100\n",
      "4/4 [==============================] - 0s 16ms/step - loss: 0.0937 - acc: 0.9746 - val_loss: 0.8148 - val_acc: 0.7143\n",
      "Epoch 41/100\n",
      "4/4 [==============================] - 0s 16ms/step - loss: 0.0724 - acc: 0.9831 - val_loss: 0.9848 - val_acc: 0.6429\n",
      "Epoch 42/100\n",
      "4/4 [==============================] - 0s 16ms/step - loss: 0.0669 - acc: 0.9831 - val_loss: 0.6306 - val_acc: 0.7857\n",
      "Epoch 43/100\n",
      "4/4 [==============================] - 0s 17ms/step - loss: 0.0602 - acc: 0.9915 - val_loss: 0.7457 - val_acc: 0.7857\n",
      "Epoch 44/100\n",
      "4/4 [==============================] - 0s 16ms/step - loss: 0.0402 - acc: 1.0000 - val_loss: 1.1259 - val_acc: 0.6429\n",
      "Epoch 45/100\n",
      "4/4 [==============================] - 0s 16ms/step - loss: 0.0419 - acc: 0.9831 - val_loss: 1.1269 - val_acc: 0.5714\n",
      "Epoch 46/100\n",
      "4/4 [==============================] - 0s 17ms/step - loss: 0.0325 - acc: 0.9915 - val_loss: 0.6540 - val_acc: 0.7143\n",
      "Epoch 47/100\n",
      "4/4 [==============================] - 0s 16ms/step - loss: 0.0364 - acc: 0.9915 - val_loss: 0.7940 - val_acc: 0.7857\n",
      "Epoch 48/100\n",
      "4/4 [==============================] - 0s 17ms/step - loss: 0.0333 - acc: 0.9915 - val_loss: 0.9278 - val_acc: 0.7143\n",
      "Epoch 49/100\n",
      "4/4 [==============================] - 0s 16ms/step - loss: 0.0284 - acc: 0.9915 - val_loss: 1.2153 - val_acc: 0.5714\n",
      "Epoch 50/100\n",
      "4/4 [==============================] - 0s 16ms/step - loss: 0.0406 - acc: 0.9915 - val_loss: 1.1396 - val_acc: 0.5714\n",
      "Epoch 51/100\n",
      "4/4 [==============================] - 0s 16ms/step - loss: 0.0186 - acc: 1.0000 - val_loss: 0.8584 - val_acc: 0.7143\n",
      "Epoch 52/100\n",
      "4/4 [==============================] - 0s 16ms/step - loss: 0.0185 - acc: 1.0000 - val_loss: 0.7199 - val_acc: 0.7857\n",
      "Epoch 53/100\n",
      "4/4 [==============================] - 0s 17ms/step - loss: 0.0189 - acc: 1.0000 - val_loss: 0.6507 - val_acc: 0.7857\n",
      "Epoch 54/100\n",
      "4/4 [==============================] - 0s 17ms/step - loss: 0.0129 - acc: 1.0000 - val_loss: 0.6083 - val_acc: 0.7857\n",
      "Epoch 55/100\n",
      "4/4 [==============================] - 0s 17ms/step - loss: 0.0121 - acc: 1.0000 - val_loss: 0.7204 - val_acc: 0.7143\n",
      "Epoch 56/100\n",
      "4/4 [==============================] - 0s 16ms/step - loss: 0.0142 - acc: 1.0000 - val_loss: 0.9914 - val_acc: 0.6429\n",
      "Epoch 57/100\n",
      "4/4 [==============================] - 0s 17ms/step - loss: 0.0216 - acc: 1.0000 - val_loss: 1.0514 - val_acc: 0.7143\n",
      "Epoch 58/100\n",
      "4/4 [==============================] - 0s 16ms/step - loss: 0.0094 - acc: 1.0000 - val_loss: 1.2094 - val_acc: 0.6429\n",
      "Epoch 59/100\n",
      "4/4 [==============================] - 0s 16ms/step - loss: 0.0120 - acc: 1.0000 - val_loss: 1.3302 - val_acc: 0.6429\n",
      "Epoch 60/100\n",
      "4/4 [==============================] - 0s 16ms/step - loss: 0.0122 - acc: 1.0000 - val_loss: 1.1344 - val_acc: 0.7143\n",
      "Epoch 61/100\n",
      "4/4 [==============================] - 0s 16ms/step - loss: 0.0089 - acc: 1.0000 - val_loss: 0.8980 - val_acc: 0.7857\n",
      "Epoch 62/100\n",
      "4/4 [==============================] - 0s 17ms/step - loss: 0.0082 - acc: 1.0000 - val_loss: 0.8545 - val_acc: 0.7857\n",
      "Epoch 63/100\n"
     ]
    },
    {
     "name": "stdout",
     "output_type": "stream",
     "text": [
      "4/4 [==============================] - 0s 16ms/step - loss: 0.0115 - acc: 1.0000 - val_loss: 0.8933 - val_acc: 0.7857\n",
      "Epoch 64/100\n",
      "4/4 [==============================] - 0s 16ms/step - loss: 0.0087 - acc: 1.0000 - val_loss: 0.9979 - val_acc: 0.7857\n",
      "Epoch 65/100\n",
      "4/4 [==============================] - 0s 16ms/step - loss: 0.0062 - acc: 1.0000 - val_loss: 0.9849 - val_acc: 0.7857\n",
      "Epoch 66/100\n",
      "4/4 [==============================] - 0s 16ms/step - loss: 0.0081 - acc: 1.0000 - val_loss: 1.2003 - val_acc: 0.6429\n",
      "Epoch 67/100\n",
      "4/4 [==============================] - 0s 15ms/step - loss: 0.0060 - acc: 1.0000 - val_loss: 1.2021 - val_acc: 0.5714\n",
      "Epoch 68/100\n",
      "4/4 [==============================] - 0s 16ms/step - loss: 0.0056 - acc: 1.0000 - val_loss: 1.0874 - val_acc: 0.7857\n",
      "Epoch 69/100\n",
      "4/4 [==============================] - 0s 16ms/step - loss: 0.0050 - acc: 1.0000 - val_loss: 0.9260 - val_acc: 0.7857\n",
      "Epoch 70/100\n",
      "4/4 [==============================] - 0s 17ms/step - loss: 0.0057 - acc: 1.0000 - val_loss: 0.8271 - val_acc: 0.7857\n",
      "Epoch 71/100\n",
      "4/4 [==============================] - 0s 26ms/step - loss: 0.0057 - acc: 1.0000 - val_loss: 0.8818 - val_acc: 0.7857\n",
      "Epoch 72/100\n",
      "4/4 [==============================] - 0s 17ms/step - loss: 0.0156 - acc: 0.9915 - val_loss: 1.0367 - val_acc: 0.7857\n",
      "Epoch 73/100\n",
      "4/4 [==============================] - 0s 16ms/step - loss: 0.0048 - acc: 1.0000 - val_loss: 1.1444 - val_acc: 0.7857\n",
      "Epoch 74/100\n",
      "4/4 [==============================] - 0s 16ms/step - loss: 0.0089 - acc: 1.0000 - val_loss: 1.1317 - val_acc: 0.7857\n",
      "Epoch 75/100\n",
      "4/4 [==============================] - 0s 16ms/step - loss: 0.0051 - acc: 1.0000 - val_loss: 0.9047 - val_acc: 0.7143\n",
      "Epoch 76/100\n",
      "4/4 [==============================] - 0s 16ms/step - loss: 0.0047 - acc: 1.0000 - val_loss: 0.7512 - val_acc: 0.7143\n",
      "Epoch 77/100\n",
      "4/4 [==============================] - 0s 17ms/step - loss: 0.0048 - acc: 1.0000 - val_loss: 0.6644 - val_acc: 0.7143\n",
      "Epoch 78/100\n",
      "4/4 [==============================] - 0s 16ms/step - loss: 0.0041 - acc: 1.0000 - val_loss: 0.6476 - val_acc: 0.7143\n",
      "Epoch 79/100\n",
      "4/4 [==============================] - 0s 16ms/step - loss: 0.0053 - acc: 1.0000 - val_loss: 0.6554 - val_acc: 0.7857\n",
      "Epoch 80/100\n",
      "4/4 [==============================] - 0s 16ms/step - loss: 0.0054 - acc: 1.0000 - val_loss: 0.6787 - val_acc: 0.7857\n",
      "Epoch 81/100\n",
      "4/4 [==============================] - 0s 16ms/step - loss: 0.0064 - acc: 1.0000 - val_loss: 1.0121 - val_acc: 0.7143\n",
      "Epoch 82/100\n",
      "4/4 [==============================] - 0s 16ms/step - loss: 0.0048 - acc: 1.0000 - val_loss: 1.3097 - val_acc: 0.6429\n",
      "Epoch 83/100\n",
      "4/4 [==============================] - 0s 16ms/step - loss: 0.0072 - acc: 1.0000 - val_loss: 1.3156 - val_acc: 0.5714\n",
      "Epoch 84/100\n",
      "4/4 [==============================] - 0s 16ms/step - loss: 0.0155 - acc: 0.9915 - val_loss: 0.6448 - val_acc: 0.7857\n",
      "Epoch 85/100\n",
      "4/4 [==============================] - 0s 16ms/step - loss: 0.0051 - acc: 1.0000 - val_loss: 0.8320 - val_acc: 0.7143\n",
      "Epoch 86/100\n",
      "4/4 [==============================] - 0s 16ms/step - loss: 0.0039 - acc: 1.0000 - val_loss: 1.1022 - val_acc: 0.7143\n",
      "Epoch 87/100\n",
      "4/4 [==============================] - 0s 17ms/step - loss: 0.0067 - acc: 1.0000 - val_loss: 1.1408 - val_acc: 0.7143\n",
      "Epoch 88/100\n",
      "4/4 [==============================] - 0s 16ms/step - loss: 0.0087 - acc: 1.0000 - val_loss: 0.9911 - val_acc: 0.7143\n",
      "Epoch 89/100\n",
      "4/4 [==============================] - 0s 17ms/step - loss: 0.0061 - acc: 1.0000 - val_loss: 0.7483 - val_acc: 0.7143\n",
      "Epoch 90/100\n",
      "4/4 [==============================] - 0s 16ms/step - loss: 0.0035 - acc: 1.0000 - val_loss: 0.6465 - val_acc: 0.7857\n",
      "Epoch 91/100\n",
      "4/4 [==============================] - 0s 16ms/step - loss: 0.0029 - acc: 1.0000 - val_loss: 0.6778 - val_acc: 0.7857\n",
      "Epoch 92/100\n",
      "4/4 [==============================] - 0s 16ms/step - loss: 0.0073 - acc: 1.0000 - val_loss: 0.8389 - val_acc: 0.8571\n",
      "Epoch 93/100\n",
      "4/4 [==============================] - 0s 16ms/step - loss: 0.0035 - acc: 1.0000 - val_loss: 1.0413 - val_acc: 0.7143\n",
      "Epoch 94/100\n",
      "4/4 [==============================] - 0s 16ms/step - loss: 0.0055 - acc: 1.0000 - val_loss: 1.1179 - val_acc: 0.6429\n",
      "Epoch 95/100\n",
      "4/4 [==============================] - 0s 16ms/step - loss: 0.0116 - acc: 0.9915 - val_loss: 0.5208 - val_acc: 0.8571\n",
      "Epoch 96/100\n",
      "4/4 [==============================] - 0s 17ms/step - loss: 0.0170 - acc: 0.9915 - val_loss: 1.2381 - val_acc: 0.6429\n",
      "Epoch 97/100\n",
      "4/4 [==============================] - 0s 16ms/step - loss: 0.0124 - acc: 0.9915 - val_loss: 0.7846 - val_acc: 0.7143\n",
      "Epoch 98/100\n",
      "4/4 [==============================] - 0s 16ms/step - loss: 0.0134 - acc: 0.9915 - val_loss: 0.6449 - val_acc: 0.7857\n",
      "Epoch 99/100\n",
      "4/4 [==============================] - 0s 16ms/step - loss: 0.1110 - acc: 0.9831 - val_loss: 1.1676 - val_acc: 0.6429\n",
      "Epoch 100/100\n",
      "4/4 [==============================] - 0s 16ms/step - loss: 0.0732 - acc: 0.9831 - val_loss: 0.3234 - val_acc: 0.8571\n"
     ]
    }
   ],
   "source": [
    "model.compile(optimizer='adam',loss='categorical_crossentropy',metrics=['acc'])\n",
    "history= model.fit(emb_XTrain,Y_train,batch_size=32,epochs=100,shuffle=True,validation_split=0.1)"
   ]
  },
  {
   "cell_type": "code",
   "execution_count": 175,
   "id": "7c46c6da",
   "metadata": {},
   "outputs": [
    {
     "ename": "AttributeError",
     "evalue": "'Sequential' object has no attribute 'predict_classes'",
     "output_type": "error",
     "traceback": [
      "\u001b[1;31m---------------------------------------------------------------------------\u001b[0m",
      "\u001b[1;31mAttributeError\u001b[0m                            Traceback (most recent call last)",
      "\u001b[1;32m~\\AppData\\Local\\Temp/ipykernel_23060/2864229256.py\u001b[0m in \u001b[0;36m<module>\u001b[1;34m\u001b[0m\n\u001b[1;32m----> 1\u001b[1;33m \u001b[0mpred\u001b[0m\u001b[1;33m=\u001b[0m \u001b[0mmodel\u001b[0m\u001b[1;33m.\u001b[0m\u001b[0mpredict_classes\u001b[0m\u001b[1;33m(\u001b[0m\u001b[0memb_XTest\u001b[0m\u001b[1;33m)\u001b[0m\u001b[1;33m\u001b[0m\u001b[1;33m\u001b[0m\u001b[0m\n\u001b[0m\u001b[0;32m      2\u001b[0m \u001b[0mfloat\u001b[0m\u001b[1;33m(\u001b[0m\u001b[0msum\u001b[0m\u001b[1;33m(\u001b[0m\u001b[0mpred\u001b[0m\u001b[1;33m==\u001b[0m\u001b[0mY_test\u001b[0m\u001b[1;33m)\u001b[0m\u001b[1;33m)\u001b[0m\u001b[1;33m/\u001b[0m\u001b[0memb_XTest\u001b[0m\u001b[1;33m.\u001b[0m\u001b[0mshape\u001b[0m\u001b[1;33m[\u001b[0m\u001b[1;36m0\u001b[0m\u001b[1;33m]\u001b[0m\u001b[1;33m\u001b[0m\u001b[1;33m\u001b[0m\u001b[0m\n",
      "\u001b[1;31mAttributeError\u001b[0m: 'Sequential' object has no attribute 'predict_classes'"
     ]
    }
   ],
   "source": [
    "pred= model.predict_classes(emb_XTest)\n",
    "float(sum(pred==Y_test))/emb_XTest.shape[0]"
   ]
  },
  {
   "cell_type": "code",
   "execution_count": 176,
   "id": "7e3f0758",
   "metadata": {},
   "outputs": [
    {
     "data": {
      "image/png": "[encoded data removed]",
      "text/plain": [
       "<Figure size 432x288 with 1 Axes>"
      ]
     },
     "metadata": {
      "needs_background": "light"
     },
     "output_type": "display_data"
    }
   ],
   "source": [
    "import matplotlib.pyplot as plt\n",
    "plt.plot(history.history['acc'])\n",
    "plt.plot(history.history['val_acc'])\n",
    "plt.title('model accuracy')\n",
    "plt.ylabel('accuracy')\n",
    "plt.xlabel('epoch')\n",
    "plt.legend(['train', 'test'], loc='upper left')\n",
    "plt.show()"
   ]
  },
  {
   "cell_type": "code",
   "execution_count": 177,
   "id": "061088f6",
   "metadata": {},
   "outputs": [
    {
     "data": {
      "image/png": "[encoded data removed]",
      "text/plain": [
       "<Figure size 432x288 with 1 Axes>"
      ]
     },
     "metadata": {
      "needs_background": "light"
     },
     "output_type": "display_data"
    }
   ],
   "source": [
    "plt.plot(history.history['loss'])\n",
    "plt.plot(history.history['val_loss'])\n",
    "plt.title('model loss')\n",
    "plt.ylabel('loss')\n",
    "plt.xlabel('epoch')\n",
    "plt.legend(['train', 'test'], loc='upper right')\n",
    "plt.show()"
   ]
  },
  {
   "cell_type": "code",
   "execution_count": 178,
   "id": "fa509604",
   "metadata": {},
   "outputs": [
    {
     "ename": "ValueError",
     "evalue": "setting an array element with a sequence.",
     "output_type": "error",
     "traceback": [
      "\u001b[1;31m---------------------------------------------------------------------------\u001b[0m",
      "\u001b[1;31mTypeError\u001b[0m                                 Traceback (most recent call last)",
      "\u001b[1;31mTypeError\u001b[0m: float() argument must be a string or a number, not 'list'",
      "\nThe above exception was the direct cause of the following exception:\n",
      "\u001b[1;31mValueError\u001b[0m                                Traceback (most recent call last)",
      "\u001b[1;32m~\\AppData\\Local\\Temp/ipykernel_23060/1886240204.py\u001b[0m in \u001b[0;36m<module>\u001b[1;34m\u001b[0m\n\u001b[1;32m----> 1\u001b[1;33m \u001b[0mX_test\u001b[0m \u001b[1;33m=\u001b[0m \u001b[0mnp\u001b[0m\u001b[1;33m.\u001b[0m\u001b[0masarray\u001b[0m\u001b[1;33m(\u001b[0m\u001b[0mX_test\u001b[0m\u001b[1;33m)\u001b[0m\u001b[1;33m.\u001b[0m\u001b[0mastype\u001b[0m\u001b[1;33m(\u001b[0m\u001b[0mnp\u001b[0m\u001b[1;33m.\u001b[0m\u001b[0mfloat32\u001b[0m\u001b[1;33m)\u001b[0m\u001b[1;33m\u001b[0m\u001b[1;33m\u001b[0m\u001b[0m\n\u001b[0m\u001b[0;32m      2\u001b[0m \u001b[0mY_test\u001b[0m \u001b[1;33m=\u001b[0m \u001b[0mnp\u001b[0m\u001b[1;33m.\u001b[0m\u001b[0masarray\u001b[0m\u001b[1;33m(\u001b[0m\u001b[0mY_test\u001b[0m\u001b[1;33m)\u001b[0m\u001b[1;33m.\u001b[0m\u001b[0mastype\u001b[0m\u001b[1;33m(\u001b[0m\u001b[0mnp\u001b[0m\u001b[1;33m.\u001b[0m\u001b[0mfloat32\u001b[0m\u001b[1;33m)\u001b[0m\u001b[1;33m\u001b[0m\u001b[1;33m\u001b[0m\u001b[0m\n\u001b[0;32m      3\u001b[0m \u001b[0mpredictions\u001b[0m \u001b[1;33m=\u001b[0m \u001b[0mmodel\u001b[0m\u001b[1;33m.\u001b[0m\u001b[0mpredict\u001b[0m\u001b[1;33m(\u001b[0m\u001b[0mX_test\u001b[0m\u001b[1;33m)\u001b[0m\u001b[1;33m\u001b[0m\u001b[1;33m\u001b[0m\u001b[0m\n",
      "\u001b[1;31mValueError\u001b[0m: setting an array element with a sequence."
     ]
    }
   ],
   "source": [
    "X_test = np.asarray(X_test).astype(np.float32)\n",
    "Y_test = np.asarray(Y_test).astype(np.float32)\n",
    "predictions = model.predict(X_test)"
   ]
  },
  {
   "cell_type": "code",
   "execution_count": null,
   "id": "3e45dde1",
   "metadata": {},
   "outputs": [],
   "source": []
  }
 ],
 "metadata": {
  "kernelspec": {
   "display_name": "Python 3 (ipykernel)",
   "language": "python",
   "name": "python3"
  },
  "language_info": {
   "codemirror_mode": {
    "name": "ipython",
    "version": 3
   },
   "file_extension": ".py",
   "mimetype": "text/x-python",
   "name": "python",
   "nbconvert_exporter": "python",
   "pygments_lexer": "ipython3",
   "version": "3.9.7"
  }
 },
 "nbformat": 4,
 "nbformat_minor": 5
}
